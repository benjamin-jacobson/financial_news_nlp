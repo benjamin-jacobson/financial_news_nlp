{
 "cells": [
  {
   "cell_type": "markdown",
   "metadata": {},
   "source": [
    "__Student info:__"
   ]
  },
  {
   "cell_type": "markdown",
   "metadata": {},
   "source": [
    "- Student name: Thomas Brown\n",
    "- Student pace: Full Time\n",
    "- Scheduled project review date/time: TBD\n",
    "- Instructor name: Abhineet Kulkarni\n",
    "- Blog post URL: TBD"
   ]
  },
  {
   "cell_type": "markdown",
   "metadata": {},
   "source": [
    "__Use Case:__<br><br>\n",
    "The purpose of this project is to start building a neural network model that can determine the sentiment of financial news headlines.  The users of this model would be investment firms who want to keep track of the market sentiment of a set of various products, companies, or industries.  <br><br>\n",
    "With proper web scraping and feeding of new headlines, a firm would be able to keep track of various topics to make better informed investing decisions.  For example, one could feasibly keep track of terms that are rising rapidly in terms of positive sentiment in order to invest in them.<br><br>\n",
    "The data is collected from Kaggle through this [link](https://www.kaggle.com/ankurzing/sentiment-analysis-for-financial-news).  It's a collection of 4,837 unique news headlines from various financial news sources. "
   ]
  },
  {
   "cell_type": "markdown",
   "metadata": {},
   "source": [
    "## Importing Libraries:"
   ]
  },
  {
   "cell_type": "code",
   "execution_count": 1,
   "metadata": {},
   "outputs": [
    {
     "name": "stderr",
     "output_type": "stream",
     "text": [
      "Using TensorFlow backend.\n",
      "/Users/Thomas/opt/anaconda3/envs/learn-env/lib/python3.6/site-packages/sklearn/externals/six.py:31: DeprecationWarning: The module is deprecated in version 0.21 and will be removed in version 0.23 since we've dropped support for Python 2.7. Please rely on the official version of six (https://pypi.org/project/six/).\n",
      "  \"(https://pypi.org/project/six/).\", DeprecationWarning)\n"
     ]
    }
   ],
   "source": [
    "import pandas as pd\n",
    "import numpy as np\n",
    "\n",
    "# Scikit-Learn:\n",
    "from sklearn.preprocessing import StandardScaler\n",
    "from sklearn.neighbors import KNeighborsClassifier\n",
    "from sklearn.model_selection import train_test_split, GridSearchCV\n",
    "from sklearn.ensemble import RandomForestClassifier\n",
    "from sklearn.tree import DecisionTreeClassifier\n",
    "from sklearn.ensemble import AdaBoostClassifier, GradientBoostingClassifier\n",
    "from sklearn.pipeline import Pipeline\n",
    "from sklearn.metrics import precision_score, recall_score, confusion_matrix, classification_report, accuracy_score, f1_score\n",
    "from sklearn import svm\n",
    "from sklearn import tree\n",
    "from sklearn.preprocessing import LabelEncoder\n",
    "from sklearn.preprocessing import OneHotEncoder\n",
    "\n",
    "\n",
    "# Keras:\n",
    "import keras\n",
    "from keras.models import Sequential\n",
    "from keras.layers import Dense\n",
    "from sklearn.preprocessing import StandardScaler, LabelBinarizer\n",
    "from keras.preprocessing.text import Tokenizer\n",
    "from keras.preprocessing.sequence import pad_sequences\n",
    "from keras.layers import Dense, Conv1D, MaxPool1D, Flatten, Dropout\n",
    "from keras.utils import to_categorical\n",
    "from keras.layers import Embedding, LSTM, Dense, Dropout\n",
    "\n",
    "\n",
    "# NLTK - Stopwords:\n",
    "import nltk\n",
    "from nltk.corpus import stopwords\n",
    "import string\n",
    "from nltk import word_tokenize, FreqDist\n",
    "from nltk.stem import WordNetLemmatizer\n",
    "from nltk import pos_tag\n",
    "from nltk.corpus import wordnet\n",
    "\n",
    "\n",
    "# Sampling:\n",
    "from imblearn.over_sampling import SMOTE, ADASYN\n",
    "\n",
    "# XGBoost:\n",
    "import xgboost as xgb\n",
    "\n",
    "# Plots and Graphs:\n",
    "from wordcloud import WordCloud\n",
    "import seaborn as sns\n",
    "sns.set_style('darkgrid')\n",
    "import matplotlib.pyplot as plt\n",
    "import plotly.express as px\n",
    "import scikitplot as skplt \n",
    "%matplotlib inline\n",
    "\n",
    "# Other:\n",
    "from collections import Counter\n",
    "import warnings\n",
    "warnings.filterwarnings('ignore')\n",
    "# So we can see the entire column:\n",
    "pd.set_option('display.max_colwidth', -1)"
   ]
  },
  {
   "cell_type": "markdown",
   "metadata": {},
   "source": [
    "# Importing Data:"
   ]
  },
  {
   "cell_type": "code",
   "execution_count": 34,
   "metadata": {},
   "outputs": [
    {
     "data": {
      "text/html": [
       "<div>\n",
       "<style scoped>\n",
       "    .dataframe tbody tr th:only-of-type {\n",
       "        vertical-align: middle;\n",
       "    }\n",
       "\n",
       "    .dataframe tbody tr th {\n",
       "        vertical-align: top;\n",
       "    }\n",
       "\n",
       "    .dataframe thead th {\n",
       "        text-align: right;\n",
       "    }\n",
       "</style>\n",
       "<table border=\"1\" class=\"dataframe\">\n",
       "  <thead>\n",
       "    <tr style=\"text-align: right;\">\n",
       "      <th></th>\n",
       "      <th>Sentiment</th>\n",
       "      <th>Headline</th>\n",
       "    </tr>\n",
       "  </thead>\n",
       "  <tbody>\n",
       "    <tr>\n",
       "      <td>0</td>\n",
       "      <td>neutral</td>\n",
       "      <td>According to Gran , the company has no plans to move all production to Russia , although that is where the company is growing .</td>\n",
       "    </tr>\n",
       "    <tr>\n",
       "      <td>1</td>\n",
       "      <td>neutral</td>\n",
       "      <td>Technopolis plans to develop in stages an area of no less than 100,000 square meters in order to host companies working in computer technologies and telecommunications , the statement said .</td>\n",
       "    </tr>\n",
       "    <tr>\n",
       "      <td>2</td>\n",
       "      <td>negative</td>\n",
       "      <td>The international electronic industry company Elcoteq has laid off tens of employees from its Tallinn facility ; contrary to earlier layoffs the company contracted the ranks of its office workers , the daily Postimees reported .</td>\n",
       "    </tr>\n",
       "    <tr>\n",
       "      <td>3</td>\n",
       "      <td>positive</td>\n",
       "      <td>With the new production plant the company would increase its capacity to meet the expected increase in demand and would improve the use of raw materials and therefore increase the production profitability .</td>\n",
       "    </tr>\n",
       "    <tr>\n",
       "      <td>4</td>\n",
       "      <td>positive</td>\n",
       "      <td>According to the company 's updated strategy for the years 2009-2012 , Basware targets a long-term net sales growth in the range of 20 % -40 % with an operating profit margin of 10 % -20 % of net sales .</td>\n",
       "    </tr>\n",
       "  </tbody>\n",
       "</table>\n",
       "</div>"
      ],
      "text/plain": [
       "  Sentiment  \\\n",
       "0  neutral    \n",
       "1  neutral    \n",
       "2  negative   \n",
       "3  positive   \n",
       "4  positive   \n",
       "\n",
       "                                                                                                                                                                                                                               Headline  \n",
       "0  According to Gran , the company has no plans to move all production to Russia , although that is where the company is growing .                                                                                                       \n",
       "1  Technopolis plans to develop in stages an area of no less than 100,000 square meters in order to host companies working in computer technologies and telecommunications , the statement said .                                        \n",
       "2  The international electronic industry company Elcoteq has laid off tens of employees from its Tallinn facility ; contrary to earlier layoffs the company contracted the ranks of its office workers , the daily Postimees reported .  \n",
       "3  With the new production plant the company would increase its capacity to meet the expected increase in demand and would improve the use of raw materials and therefore increase the production profitability .                        \n",
       "4  According to the company 's updated strategy for the years 2009-2012 , Basware targets a long-term net sales growth in the range of 20 % -40 % with an operating profit margin of 10 % -20 % of net sales .                           "
      ]
     },
     "metadata": {},
     "output_type": "display_data"
    },
    {
     "name": "stdout",
     "output_type": "stream",
     "text": [
      "Shape: (4846, 2) \n",
      "\n",
      "\n",
      "<class 'pandas.core.frame.DataFrame'>\n",
      "RangeIndex: 4846 entries, 0 to 4845\n",
      "Data columns (total 2 columns):\n",
      "Sentiment    4846 non-null object\n",
      "Headline     4846 non-null object\n",
      "dtypes: object(2)\n",
      "memory usage: 75.8+ KB\n",
      "None\n"
     ]
    }
   ],
   "source": [
    "df = pd.read_csv('all-data.csv', names = ['Sentiment', 'Headline'], \n",
    "                 encoding='latin-1')\n",
    "display(df.head())\n",
    "print(\"Shape:\", df.shape, \"\\n\\n\")\n",
    "print(df.info())"
   ]
  },
  {
   "cell_type": "code",
   "execution_count": 35,
   "metadata": {},
   "outputs": [
    {
     "data": {
      "text/plain": [
       "neutral     2879\n",
       "positive    1363\n",
       "negative    604 \n",
       "Name: Sentiment, dtype: int64"
      ]
     },
     "execution_count": 35,
     "metadata": {},
     "output_type": "execute_result"
    }
   ],
   "source": [
    "# Let's take a look at the number of instances of each sentiment:\n",
    "df.Sentiment.value_counts()\n",
    "# Not too many negatives.  This may prove to be an issue later on, but for now, let's keep moving."
   ]
  },
  {
   "cell_type": "markdown",
   "metadata": {},
   "source": [
    "# Cleaning Data:"
   ]
  },
  {
   "cell_type": "markdown",
   "metadata": {},
   "source": [
    "First, the labels need to be changed to numerical values in order to go through the neural network later on."
   ]
  },
  {
   "cell_type": "markdown",
   "metadata": {},
   "source": [
    "- 0 is Negative\n",
    "- 1 is Neutral\n",
    "- 2 is Positive"
   ]
  },
  {
   "cell_type": "code",
   "execution_count": 36,
   "metadata": {},
   "outputs": [
    {
     "data": {
      "text/html": [
       "<div>\n",
       "<style scoped>\n",
       "    .dataframe tbody tr th:only-of-type {\n",
       "        vertical-align: middle;\n",
       "    }\n",
       "\n",
       "    .dataframe tbody tr th {\n",
       "        vertical-align: top;\n",
       "    }\n",
       "\n",
       "    .dataframe thead th {\n",
       "        text-align: right;\n",
       "    }\n",
       "</style>\n",
       "<table border=\"1\" class=\"dataframe\">\n",
       "  <thead>\n",
       "    <tr style=\"text-align: right;\">\n",
       "      <th></th>\n",
       "      <th>Sentiment</th>\n",
       "      <th>Headline</th>\n",
       "    </tr>\n",
       "  </thead>\n",
       "  <tbody>\n",
       "    <tr>\n",
       "      <td>0</td>\n",
       "      <td>1</td>\n",
       "      <td>According to Gran , the company has no plans to move all production to Russia , although that is where the company is growing .</td>\n",
       "    </tr>\n",
       "    <tr>\n",
       "      <td>1</td>\n",
       "      <td>1</td>\n",
       "      <td>Technopolis plans to develop in stages an area of no less than 100,000 square meters in order to host companies working in computer technologies and telecommunications , the statement said .</td>\n",
       "    </tr>\n",
       "    <tr>\n",
       "      <td>2</td>\n",
       "      <td>0</td>\n",
       "      <td>The international electronic industry company Elcoteq has laid off tens of employees from its Tallinn facility ; contrary to earlier layoffs the company contracted the ranks of its office workers , the daily Postimees reported .</td>\n",
       "    </tr>\n",
       "    <tr>\n",
       "      <td>3</td>\n",
       "      <td>2</td>\n",
       "      <td>With the new production plant the company would increase its capacity to meet the expected increase in demand and would improve the use of raw materials and therefore increase the production profitability .</td>\n",
       "    </tr>\n",
       "    <tr>\n",
       "      <td>4</td>\n",
       "      <td>2</td>\n",
       "      <td>According to the company 's updated strategy for the years 2009-2012 , Basware targets a long-term net sales growth in the range of 20 % -40 % with an operating profit margin of 10 % -20 % of net sales .</td>\n",
       "    </tr>\n",
       "  </tbody>\n",
       "</table>\n",
       "</div>"
      ],
      "text/plain": [
       "   Sentiment  \\\n",
       "0  1           \n",
       "1  1           \n",
       "2  0           \n",
       "3  2           \n",
       "4  2           \n",
       "\n",
       "                                                                                                                                                                                                                               Headline  \n",
       "0  According to Gran , the company has no plans to move all production to Russia , although that is where the company is growing .                                                                                                       \n",
       "1  Technopolis plans to develop in stages an area of no less than 100,000 square meters in order to host companies working in computer technologies and telecommunications , the statement said .                                        \n",
       "2  The international electronic industry company Elcoteq has laid off tens of employees from its Tallinn facility ; contrary to earlier layoffs the company contracted the ranks of its office workers , the daily Postimees reported .  \n",
       "3  With the new production plant the company would increase its capacity to meet the expected increase in demand and would improve the use of raw materials and therefore increase the production profitability .                        \n",
       "4  According to the company 's updated strategy for the years 2009-2012 , Basware targets a long-term net sales growth in the range of 20 % -40 % with an operating profit margin of 10 % -20 % of net sales .                           "
      ]
     },
     "execution_count": 36,
     "metadata": {},
     "output_type": "execute_result"
    }
   ],
   "source": [
    "# TERNARY\n",
    "# Encoding Sentiment\n",
    "lb_make = LabelEncoder()\n",
    "df[\"Sentiment\"] = lb_make.fit_transform(df[\"Sentiment\"])\n",
    "df.head()"
   ]
  },
  {
   "cell_type": "code",
   "execution_count": 37,
   "metadata": {},
   "outputs": [],
   "source": [
    "# BINARY\n",
    "#df['Sentiment'] = df['Sentiment'].map(lambda x: 1 if x == 'positive' else 0)\n",
    "#df.head()"
   ]
  },
  {
   "cell_type": "markdown",
   "metadata": {},
   "source": [
    "## Stopwords:"
   ]
  },
  {
   "cell_type": "markdown",
   "metadata": {},
   "source": [
    "Next, we can remove all the 'stopwords' that can clog up the system later on.  The punctuation will get filtered out later."
   ]
  },
  {
   "cell_type": "code",
   "execution_count": 38,
   "metadata": {},
   "outputs": [],
   "source": [
    "stop = set(stopwords.words('english'))\n",
    "stop.add(\"'s\")\n",
    "def remove_stopwords(text):\n",
    "    text = [word.lower() for word in text.split() if word.lower() not in stop]\n",
    "    return \" \".join(text)\n",
    "\n",
    "df['Headline'] = df['Headline'].map(remove_stopwords)"
   ]
  },
  {
   "cell_type": "code",
   "execution_count": 39,
   "metadata": {},
   "outputs": [
    {
     "data": {
      "text/html": [
       "<div>\n",
       "<style scoped>\n",
       "    .dataframe tbody tr th:only-of-type {\n",
       "        vertical-align: middle;\n",
       "    }\n",
       "\n",
       "    .dataframe tbody tr th {\n",
       "        vertical-align: top;\n",
       "    }\n",
       "\n",
       "    .dataframe thead th {\n",
       "        text-align: right;\n",
       "    }\n",
       "</style>\n",
       "<table border=\"1\" class=\"dataframe\">\n",
       "  <thead>\n",
       "    <tr style=\"text-align: right;\">\n",
       "      <th></th>\n",
       "      <th>Sentiment</th>\n",
       "      <th>Headline</th>\n",
       "    </tr>\n",
       "  </thead>\n",
       "  <tbody>\n",
       "    <tr>\n",
       "      <td>0</td>\n",
       "      <td>1</td>\n",
       "      <td>according gran , company plans move production russia , although company growing .</td>\n",
       "    </tr>\n",
       "    <tr>\n",
       "      <td>1</td>\n",
       "      <td>1</td>\n",
       "      <td>technopolis plans develop stages area less 100,000 square meters order host companies working computer technologies telecommunications , statement said .</td>\n",
       "    </tr>\n",
       "    <tr>\n",
       "      <td>2</td>\n",
       "      <td>0</td>\n",
       "      <td>international electronic industry company elcoteq laid tens employees tallinn facility ; contrary earlier layoffs company contracted ranks office workers , daily postimees reported .</td>\n",
       "    </tr>\n",
       "    <tr>\n",
       "      <td>3</td>\n",
       "      <td>2</td>\n",
       "      <td>new production plant company would increase capacity meet expected increase demand would improve use raw materials therefore increase production profitability .</td>\n",
       "    </tr>\n",
       "    <tr>\n",
       "      <td>4</td>\n",
       "      <td>2</td>\n",
       "      <td>according company updated strategy years 2009-2012 , basware targets long-term net sales growth range 20 % -40 % operating profit margin 10 % -20 % net sales .</td>\n",
       "    </tr>\n",
       "  </tbody>\n",
       "</table>\n",
       "</div>"
      ],
      "text/plain": [
       "   Sentiment  \\\n",
       "0  1           \n",
       "1  1           \n",
       "2  0           \n",
       "3  2           \n",
       "4  2           \n",
       "\n",
       "                                                                                                                                                                                 Headline  \n",
       "0  according gran , company plans move production russia , although company growing .                                                                                                      \n",
       "1  technopolis plans develop stages area less 100,000 square meters order host companies working computer technologies telecommunications , statement said .                               \n",
       "2  international electronic industry company elcoteq laid tens employees tallinn facility ; contrary earlier layoffs company contracted ranks office workers , daily postimees reported .  \n",
       "3  new production plant company would increase capacity meet expected increase demand would improve use raw materials therefore increase production profitability .                        \n",
       "4  according company updated strategy years 2009-2012 , basware targets long-term net sales growth range 20 % -40 % operating profit margin 10 % -20 % net sales .                         "
      ]
     },
     "execution_count": 39,
     "metadata": {},
     "output_type": "execute_result"
    }
   ],
   "source": [
    "df.head()"
   ]
  },
  {
   "cell_type": "markdown",
   "metadata": {},
   "source": [
    "## Lemmatization:"
   ]
  },
  {
   "cell_type": "code",
   "execution_count": 40,
   "metadata": {},
   "outputs": [],
   "source": [
    "def get_wordnet_pos(word):\n",
    "    \"\"\"Map POS tag to first character lemmatize() accepts\"\"\"\n",
    "    tag = nltk.pos_tag([word])[0][1][0].upper()\n",
    "    tag_dict = {\"J\": wordnet.ADJ,\n",
    "                \"N\": wordnet.NOUN,\n",
    "                \"V\": wordnet.VERB,\n",
    "                \"R\": wordnet.ADV}\n",
    "\n",
    "    return tag_dict.get(tag, wordnet.NOUN)"
   ]
  },
  {
   "cell_type": "code",
   "execution_count": 41,
   "metadata": {},
   "outputs": [],
   "source": [
    "wordnet_lemmatizer = WordNetLemmatizer()\n",
    "\n",
    "def lemmatize(text):\n",
    "    text = [wordnet_lemmatizer.lemmatize(word, get_wordnet_pos(word)) for word in text.split()]\n",
    "    return \" \".join(text)\n",
    "\n",
    "df['Headline'] = df['Headline'].map(lemmatize)"
   ]
  },
  {
   "cell_type": "code",
   "execution_count": 42,
   "metadata": {},
   "outputs": [
    {
     "data": {
      "text/html": [
       "<div>\n",
       "<style scoped>\n",
       "    .dataframe tbody tr th:only-of-type {\n",
       "        vertical-align: middle;\n",
       "    }\n",
       "\n",
       "    .dataframe tbody tr th {\n",
       "        vertical-align: top;\n",
       "    }\n",
       "\n",
       "    .dataframe thead th {\n",
       "        text-align: right;\n",
       "    }\n",
       "</style>\n",
       "<table border=\"1\" class=\"dataframe\">\n",
       "  <thead>\n",
       "    <tr style=\"text-align: right;\">\n",
       "      <th></th>\n",
       "      <th>Sentiment</th>\n",
       "      <th>Headline</th>\n",
       "    </tr>\n",
       "  </thead>\n",
       "  <tbody>\n",
       "    <tr>\n",
       "      <td>0</td>\n",
       "      <td>1</td>\n",
       "      <td>accord gran , company plan move production russia , although company grow .</td>\n",
       "    </tr>\n",
       "    <tr>\n",
       "      <td>1</td>\n",
       "      <td>1</td>\n",
       "      <td>technopolis plan develop stage area less 100,000 square meter order host company work computer technology telecommunication , statement say .</td>\n",
       "    </tr>\n",
       "    <tr>\n",
       "      <td>2</td>\n",
       "      <td>0</td>\n",
       "      <td>international electronic industry company elcoteq laid ten employee tallinn facility ; contrary earlier layoff company contract rank office worker , daily postimees report .</td>\n",
       "    </tr>\n",
       "    <tr>\n",
       "      <td>3</td>\n",
       "      <td>2</td>\n",
       "      <td>new production plant company would increase capacity meet expect increase demand would improve use raw material therefore increase production profitability .</td>\n",
       "    </tr>\n",
       "    <tr>\n",
       "      <td>4</td>\n",
       "      <td>2</td>\n",
       "      <td>accord company update strategy year 2009-2012 , basware target long-term net sale growth range 20 % -40 % operating profit margin 10 % -20 % net sale .</td>\n",
       "    </tr>\n",
       "  </tbody>\n",
       "</table>\n",
       "</div>"
      ],
      "text/plain": [
       "   Sentiment  \\\n",
       "0  1           \n",
       "1  1           \n",
       "2  0           \n",
       "3  2           \n",
       "4  2           \n",
       "\n",
       "                                                                                                                                                                        Headline  \n",
       "0  accord gran , company plan move production russia , although company grow .                                                                                                    \n",
       "1  technopolis plan develop stage area less 100,000 square meter order host company work computer technology telecommunication , statement say .                                  \n",
       "2  international electronic industry company elcoteq laid ten employee tallinn facility ; contrary earlier layoff company contract rank office worker , daily postimees report .  \n",
       "3  new production plant company would increase capacity meet expect increase demand would improve use raw material therefore increase production profitability .                  \n",
       "4  accord company update strategy year 2009-2012 , basware target long-term net sale growth range 20 % -40 % operating profit margin 10 % -20 % net sale .                        "
      ]
     },
     "execution_count": 42,
     "metadata": {},
     "output_type": "execute_result"
    }
   ],
   "source": [
    "# Still looking good\n",
    "df.head()"
   ]
  },
  {
   "cell_type": "markdown",
   "metadata": {},
   "source": [
    "# EDA:"
   ]
  },
  {
   "cell_type": "markdown",
   "metadata": {},
   "source": [
    "Let's explore some word clouds to see the most commonly occurring words for each label."
   ]
  },
  {
   "cell_type": "code",
   "execution_count": 43,
   "metadata": {},
   "outputs": [],
   "source": [
    "# Separating out the categories\n",
    "pos = df.Headline[df.Sentiment[df.Sentiment== 2].index]\n",
    "neg = df.Headline[df.Sentiment[df.Sentiment== 0].index]\n",
    "neutral = df.Headline[df.Sentiment[df.Sentiment== 1].index]"
   ]
  },
  {
   "cell_type": "code",
   "execution_count": 44,
   "metadata": {},
   "outputs": [],
   "source": [
    " def wordcloud(dataset):\n",
    "    plt.figure(figsize = (18,24)) # Text Reviews with positive Ratings\n",
    "    wordcloud = WordCloud(min_font_size = 3,  max_words = 2500 , width = 1200 , height = 800).generate(\" \".join(dataset))\n",
    "    plt.imshow(wordcloud,interpolation = 'bilinear')\n",
    "    plt.axis(\"off\")\n",
    "    plt.tight_layout(pad=0)\n",
    "    plt.show();\n",
    "\n",
    "def show_wordclouds():\n",
    "    print ('Positive Sentiment Wordcloud:')\n",
    "    wordcloud(pos)\n",
    "    ###\n",
    "    print ('Neutral Sentiment Wordcloud:')\n",
    "    wordcloud(neutral)\n",
    "    ###\n",
    "    print ('Negative Sentiment Wordcloud:')\n",
    "    wordcloud(neutral)\n",
    "    ###\n",
    "    "
   ]
  },
  {
   "cell_type": "code",
   "execution_count": 45,
   "metadata": {},
   "outputs": [],
   "source": [
    "# Showing Word Clounds\n",
    "#show_wordclouds()"
   ]
  },
  {
   "cell_type": "markdown",
   "metadata": {},
   "source": [
    "Not too much useful information here.  There are some more words we can clean, but I would like to stay on the conservative side for now."
   ]
  },
  {
   "cell_type": "markdown",
   "metadata": {},
   "source": [
    "# Additional Cleaning:"
   ]
  },
  {
   "cell_type": "markdown",
   "metadata": {},
   "source": [
    "As we saw above, there are a few words that are quite common that occur in all 3 labels.  We'll add this to these to the stop word list and run the headlines through the filter again:\n",
    "- 'finnish'\n",
    "- 'say'\n",
    "- 'company'\n",
    "I'm leaving in 'eur' for now as it doesn't appear heavily in the 'Neutral' category.  This may help later on.  Depending on how the neural network performs later, I may or may not activate the following cells."
   ]
  },
  {
   "cell_type": "code",
   "execution_count": 46,
   "metadata": {},
   "outputs": [],
   "source": [
    "# Taking out a few more stop words:\n",
    "stop.add(\"finnish\")\n",
    "stop.add(\"say\")\n",
    "stop.add(\"company\")\n",
    "\n",
    "df['Headline'] = df['Headline'].map(remove_stopwords)"
   ]
  },
  {
   "cell_type": "code",
   "execution_count": 47,
   "metadata": {},
   "outputs": [
    {
     "data": {
      "text/html": [
       "<div>\n",
       "<style scoped>\n",
       "    .dataframe tbody tr th:only-of-type {\n",
       "        vertical-align: middle;\n",
       "    }\n",
       "\n",
       "    .dataframe tbody tr th {\n",
       "        vertical-align: top;\n",
       "    }\n",
       "\n",
       "    .dataframe thead th {\n",
       "        text-align: right;\n",
       "    }\n",
       "</style>\n",
       "<table border=\"1\" class=\"dataframe\">\n",
       "  <thead>\n",
       "    <tr style=\"text-align: right;\">\n",
       "      <th></th>\n",
       "      <th>Sentiment</th>\n",
       "      <th>Headline</th>\n",
       "    </tr>\n",
       "  </thead>\n",
       "  <tbody>\n",
       "    <tr>\n",
       "      <td>0</td>\n",
       "      <td>1</td>\n",
       "      <td>accord gran , plan move production russia , although grow .</td>\n",
       "    </tr>\n",
       "    <tr>\n",
       "      <td>1</td>\n",
       "      <td>1</td>\n",
       "      <td>technopolis plan develop stage area less 100,000 square meter order host work computer technology telecommunication , statement .</td>\n",
       "    </tr>\n",
       "    <tr>\n",
       "      <td>2</td>\n",
       "      <td>0</td>\n",
       "      <td>international electronic industry elcoteq laid ten employee tallinn facility ; contrary earlier layoff contract rank office worker , daily postimees report .</td>\n",
       "    </tr>\n",
       "    <tr>\n",
       "      <td>3</td>\n",
       "      <td>2</td>\n",
       "      <td>new production plant would increase capacity meet expect increase demand would improve use raw material therefore increase production profitability .</td>\n",
       "    </tr>\n",
       "    <tr>\n",
       "      <td>4</td>\n",
       "      <td>2</td>\n",
       "      <td>accord update strategy year 2009-2012 , basware target long-term net sale growth range 20 % -40 % operating profit margin 10 % -20 % net sale .</td>\n",
       "    </tr>\n",
       "  </tbody>\n",
       "</table>\n",
       "</div>"
      ],
      "text/plain": [
       "   Sentiment  \\\n",
       "0  1           \n",
       "1  1           \n",
       "2  0           \n",
       "3  2           \n",
       "4  2           \n",
       "\n",
       "                                                                                                                                                        Headline  \n",
       "0  accord gran , plan move production russia , although grow .                                                                                                    \n",
       "1  technopolis plan develop stage area less 100,000 square meter order host work computer technology telecommunication , statement .                              \n",
       "2  international electronic industry elcoteq laid ten employee tallinn facility ; contrary earlier layoff contract rank office worker , daily postimees report .  \n",
       "3  new production plant would increase capacity meet expect increase demand would improve use raw material therefore increase production profitability .          \n",
       "4  accord update strategy year 2009-2012 , basware target long-term net sale growth range 20 % -40 % operating profit margin 10 % -20 % net sale .                "
      ]
     },
     "execution_count": 47,
     "metadata": {},
     "output_type": "execute_result"
    }
   ],
   "source": [
    "# Starting to feel a little like caveman speak, but hopefully this will be easier for the model to read!\n",
    "df.head()"
   ]
  },
  {
   "cell_type": "code",
   "execution_count": 48,
   "metadata": {},
   "outputs": [],
   "source": [
    "pos = df.Headline[df.Sentiment[df.Sentiment== 2].index]\n",
    "neg = df.Headline[df.Sentiment[df.Sentiment== 0].index]\n",
    "neutral = df.Headline[df.Sentiment[df.Sentiment== 1].index]"
   ]
  },
  {
   "cell_type": "code",
   "execution_count": 49,
   "metadata": {
    "scrolled": true
   },
   "outputs": [],
   "source": [
    "# Showing Word Clounds with additional words removed\n",
    "#show_wordclouds()"
   ]
  },
  {
   "cell_type": "markdown",
   "metadata": {},
   "source": [
    "# Counter:"
   ]
  },
  {
   "cell_type": "code",
   "execution_count": 51,
   "metadata": {},
   "outputs": [],
   "source": [
    "from collections import Counter"
   ]
  },
  {
   "cell_type": "code",
   "execution_count": 52,
   "metadata": {},
   "outputs": [],
   "source": [
    "def counter_word(text):\n",
    "    count = Counter()\n",
    "    for i in text.values:\n",
    "        for word in i.split():\n",
    "            count[word] += 1\n",
    "    return count"
   ]
  },
  {
   "cell_type": "code",
   "execution_count": 54,
   "metadata": {},
   "outputs": [],
   "source": [
    "text = df.Headline\n",
    "counter = counter_word(text)"
   ]
  },
  {
   "cell_type": "code",
   "execution_count": 55,
   "metadata": {},
   "outputs": [
    {
     "data": {
      "text/plain": [
       "10094"
      ]
     },
     "execution_count": 55,
     "metadata": {},
     "output_type": "execute_result"
    }
   ],
   "source": [
    "len(counter)"
   ]
  },
  {
   "cell_type": "code",
   "execution_count": 56,
   "metadata": {},
   "outputs": [
    {
     "data": {
      "text/plain": [
       "Counter({'accord': 123,\n",
       "         'gran': 2,\n",
       "         ',': 4662,\n",
       "         'plan': 89,\n",
       "         'move': 32,\n",
       "         'production': 130,\n",
       "         'russia': 85,\n",
       "         'although': 3,\n",
       "         'grow': 63,\n",
       "         '.': 4780,\n",
       "         'technopolis': 17,\n",
       "         'develop': 38,\n",
       "         'stage': 11,\n",
       "         'area': 96,\n",
       "         'less': 11,\n",
       "         '100,000': 6,\n",
       "         'square': 21,\n",
       "         'meter': 6,\n",
       "         'order': 150,\n",
       "         'host': 6,\n",
       "         'work': 69,\n",
       "         'computer': 15,\n",
       "         'technology': 145,\n",
       "         'telecommunication': 20,\n",
       "         'statement': 27,\n",
       "         'international': 45,\n",
       "         'electronic': 22,\n",
       "         'industry': 104,\n",
       "         'elcoteq': 39,\n",
       "         'laid': 10,\n",
       "         'ten': 14,\n",
       "         'employee': 84,\n",
       "         'tallinn': 11,\n",
       "         'facility': 70,\n",
       "         ';': 30,\n",
       "         'contrary': 1,\n",
       "         'earlier': 83,\n",
       "         'layoff': 9,\n",
       "         'contract': 177,\n",
       "         'rank': 3,\n",
       "         'office': 65,\n",
       "         'worker': 15,\n",
       "         'daily': 16,\n",
       "         'postimees': 1,\n",
       "         'report': 143,\n",
       "         'new': 269,\n",
       "         'plant': 148,\n",
       "         'would': 92,\n",
       "         'increase': 227,\n",
       "         'capacity': 52,\n",
       "         'meet': 9,\n",
       "         'expect': 133,\n",
       "         'demand': 35,\n",
       "         'improve': 45,\n",
       "         'use': 118,\n",
       "         'raw': 21,\n",
       "         'material': 48,\n",
       "         'therefore': 7,\n",
       "         'profitability': 11,\n",
       "         'update': 11,\n",
       "         'strategy': 38,\n",
       "         'year': 323,\n",
       "         '2009-2012': 1,\n",
       "         'basware': 44,\n",
       "         'target': 57,\n",
       "         'long-term': 27,\n",
       "         'net': 413,\n",
       "         'sale': 501,\n",
       "         'growth': 65,\n",
       "         'range': 40,\n",
       "         '20': 58,\n",
       "         '%': 445,\n",
       "         '-40': 1,\n",
       "         'operating': 299,\n",
       "         'profit': 413,\n",
       "         'margin': 29,\n",
       "         '10': 71,\n",
       "         '-20': 1,\n",
       "         'financing': 17,\n",
       "         'aspocomp': 26,\n",
       "         'aggressively': 1,\n",
       "         'pursue': 4,\n",
       "         'increasingly': 4,\n",
       "         'focus': 45,\n",
       "         'technologically': 2,\n",
       "         'hdi': 1,\n",
       "         'print': 12,\n",
       "         'circuit': 12,\n",
       "         'board': 97,\n",
       "         'pcbs': 3,\n",
       "         'last': 83,\n",
       "         'quarter': 242,\n",
       "         '2010': 238,\n",
       "         'componenta': 22,\n",
       "         'double': 17,\n",
       "         'eur131m': 1,\n",
       "         'eur76m': 1,\n",
       "         'period': 266,\n",
       "         'zero': 1,\n",
       "         'pre-tax': 10,\n",
       "         'loss': 160,\n",
       "         'eur7m': 3,\n",
       "         'third': 77,\n",
       "         '5.2': 8,\n",
       "         'eur': 1015,\n",
       "         '205.5': 1,\n",
       "         'mn': 515,\n",
       "         '34.9': 2,\n",
       "         '23.5': 3,\n",
       "         'rise': 122,\n",
       "         '13.1': 4,\n",
       "         '8.7': 5,\n",
       "         'correspond': 124,\n",
       "         '2007': 243,\n",
       "         'represent': 32,\n",
       "         '7.7': 5,\n",
       "         'total': 250,\n",
       "         '21.1': 3,\n",
       "         '18.6': 3,\n",
       "         '9.7': 7,\n",
       "         'teliasonera': 29,\n",
       "         'tlsn': 2,\n",
       "         'offer': 65,\n",
       "         'line': 83,\n",
       "         'ownership': 12,\n",
       "         'core': 16,\n",
       "         'business': 285,\n",
       "         'holding': 18,\n",
       "         'strengthen': 29,\n",
       "         'eesti': 8,\n",
       "         'telekom': 1,\n",
       "         'offering': 29,\n",
       "         'customer': 139,\n",
       "         'stora': 42,\n",
       "         'enso': 39,\n",
       "         'norske': 3,\n",
       "         'skog': 3,\n",
       "         'm-real': 30,\n",
       "         'upm-kymmene': 20,\n",
       "         'credit': 33,\n",
       "         'suisse': 2,\n",
       "         'first': 193,\n",
       "         'boston': 1,\n",
       "         '(': 513,\n",
       "         'cfsb': 1,\n",
       "         ')': 515,\n",
       "         'raise': 25,\n",
       "         'fair': 19,\n",
       "         'value': 112,\n",
       "         'share': 438,\n",
       "         'four': 29,\n",
       "         'large': 84,\n",
       "         'nordic': 53,\n",
       "         'forestry': 10,\n",
       "         'group': 327,\n",
       "         'purchase': 43,\n",
       "         'agreement': 124,\n",
       "         '7,200': 1,\n",
       "         'ton': 15,\n",
       "         'gasoline': 2,\n",
       "         'delivery': 52,\n",
       "         'hamina': 5,\n",
       "         'terminal': 14,\n",
       "         'finland': 337,\n",
       "         'sign': 81,\n",
       "         'neste': 27,\n",
       "         'oil': 55,\n",
       "         'oyj': 241,\n",
       "         'average': 10,\n",
       "         'platts': 1,\n",
       "         'index': 26,\n",
       "         'september': 64,\n",
       "         'plus': 10,\n",
       "         'eight': 8,\n",
       "         'u': 50,\n",
       "         'dollar': 12,\n",
       "         'per': 129,\n",
       "         'month': 76,\n",
       "         'talentum': 16,\n",
       "         '20.5': 2,\n",
       "         '2005': 104,\n",
       "         '9.3': 3,\n",
       "         '2004': 42,\n",
       "         '103.3': 1,\n",
       "         '96.4': 1,\n",
       "         'clothing': 17,\n",
       "         'retail': 39,\n",
       "         'chain': 34,\n",
       "         'sepp+æl+æ': 2,\n",
       "         '8': 27,\n",
       "         '155.2': 2,\n",
       "         '31.1': 2,\n",
       "         '17.1': 3,\n",
       "         'consolidated': 18,\n",
       "         '16': 20,\n",
       "         'reach': 27,\n",
       "         'eur74': 1,\n",
       "         '.8': 23,\n",
       "         'amount': 81,\n",
       "         'eur0': 60,\n",
       "         '.9': 29,\n",
       "         'compare': 151,\n",
       "         '.7': 12,\n",
       "         'prior': 7,\n",
       "         'foundry': 5,\n",
       "         'division': 45,\n",
       "         '63.1': 1,\n",
       "         '57.5': 2,\n",
       "         '2006': 173,\n",
       "         'machine': 36,\n",
       "         'shop': 11,\n",
       "         '16.4': 3,\n",
       "         '41.2': 1,\n",
       "         '35.4': 4,\n",
       "         'helsinki': 163,\n",
       "         'afx': 27,\n",
       "         '-': 303,\n",
       "         'close': 46,\n",
       "         'high': 65,\n",
       "         'lead': 62,\n",
       "         'nokia': 139,\n",
       "         'announce': 74,\n",
       "         'team': 22,\n",
       "         'sanyo': 1,\n",
       "         'manufacture': 36,\n",
       "         '3g': 12,\n",
       "         'handset': 28,\n",
       "         'nokian': 12,\n",
       "         'tyre': 16,\n",
       "         'fourth-quarter': 3,\n",
       "         'earnings': 50,\n",
       "         'beat': 1,\n",
       "         'analyst': 30,\n",
       "         \"'\": 116,\n",
       "         'expectation': 5,\n",
       "         'dealer': 8,\n",
       "         'incap': 25,\n",
       "         'manufacturing': 58,\n",
       "         'service': 341,\n",
       "         'pvt': 3,\n",
       "         'ltd': 46,\n",
       "         'subsidiary': 62,\n",
       "         'corporation': 130,\n",
       "         'revenue': 64,\n",
       "         '2007-2008': 2,\n",
       "         'director': 80,\n",
       "         'propose': 22,\n",
       "         'dividend': 38,\n",
       "         '.12': 5,\n",
       "         '.08': 4,\n",
       "         'paid': 20,\n",
       "         '2009': 297,\n",
       "         'lifetree': 2,\n",
       "         'found': 21,\n",
       "         '2000': 6,\n",
       "         'risen': 2,\n",
       "         '40': 29,\n",
       "         'late': 27,\n",
       "         '30': 51,\n",
       "         'filippova': 1,\n",
       "         'trilateral': 1,\n",
       "         'investment': 134,\n",
       "         'construction': 109,\n",
       "         'park': 22,\n",
       "         'st': 10,\n",
       "         'petersburg': 33,\n",
       "         'course': 9,\n",
       "         'forum': 2,\n",
       "         'day': 37,\n",
       "         'russian': 39,\n",
       "         'economy': 7,\n",
       "         'open': 25,\n",
       "         'today': 149,\n",
       "         'megafon': 4,\n",
       "         'subscriber': 7,\n",
       "         'base': 87,\n",
       "         '16.1': 3,\n",
       "         '50.5': 1,\n",
       "         'million': 441,\n",
       "         'user': 28,\n",
       "         'december': 31,\n",
       "         '31': 22,\n",
       "         'market': 288,\n",
       "         'number': 75,\n",
       "         '24': 10,\n",
       "         '23': 22,\n",
       "         '2008': 283,\n",
       "         'estimate': 84,\n",
       "         'income': 26,\n",
       "         'life': 22,\n",
       "         'insurance': 33,\n",
       "         '6.8': 3,\n",
       "         '3.2': 6,\n",
       "         'non-life': 6,\n",
       "         '1.5': 27,\n",
       "         'eur193': 1,\n",
       "         '.3': 36,\n",
       "         'eur179': 1,\n",
       "         'pretax': 30,\n",
       "         '34.2': 1,\n",
       "         'eur43': 2,\n",
       "         '.1': 22,\n",
       "         'm.': 26,\n",
       "         'eur1': 28,\n",
       "         '=': 4,\n",
       "         'usd1': 4,\n",
       "         '.4': 22,\n",
       "         'surge': 8,\n",
       "         '18.5': 3,\n",
       "         'eur167': 1,\n",
       "         'teleste': 28,\n",
       "         'eur20': 4,\n",
       "         '12.2': 3,\n",
       "         'come': 45,\n",
       "         'acquisition': 79,\n",
       "         'make': 125,\n",
       "         'nordea': 45,\n",
       "         '18': 28,\n",
       "         'percent': 123,\n",
       "         'year-on-year': 34,\n",
       "         '3.64': 1,\n",
       "         'billion': 65,\n",
       "         'euro': 226,\n",
       "         '3': 37,\n",
       "         '9.33': 1,\n",
       "         'nine-month': 5,\n",
       "         'eur13': 8,\n",
       "         '.6': 27,\n",
       "         'eur394': 1,\n",
       "         'eur3': 14,\n",
       "         'eur61': 3,\n",
       "         '.5': 26,\n",
       "         'three-month': 7,\n",
       "         '.2': 22,\n",
       "         'brazilian': 6,\n",
       "         'unit': 135,\n",
       "         'security': 42,\n",
       "         'solution': 172,\n",
       "         'provider': 51,\n",
       "         'f-secure': 15,\n",
       "         '1,500': 2,\n",
       "         'client': 24,\n",
       "         'online': 26,\n",
       "         'news': 67,\n",
       "         'source': 18,\n",
       "         'reseller': 1,\n",
       "         'web': 14,\n",
       "         'quote': 9,\n",
       "         'commercial': 27,\n",
       "         'vladimir': 2,\n",
       "         'brand+_o': 1,\n",
       "         '11.4': 6,\n",
       "         '82.2': 1,\n",
       "         '686.5': 1,\n",
       "         '13.8': 2,\n",
       "         'lithuanian': 8,\n",
       "         'beer': 28,\n",
       "         '14.41': 1,\n",
       "         'liter': 22,\n",
       "         'january': 55,\n",
       "         '0.8': 10,\n",
       "         'year-earlier': 4,\n",
       "         'figure': 17,\n",
       "         'brewer': 3,\n",
       "         'association': 12,\n",
       "         'reporting': 18,\n",
       "         'cite': 3,\n",
       "         'result': 122,\n",
       "         'member': 42,\n",
       "         'viking': 15,\n",
       "         'cargo': 20,\n",
       "         '5.4': 5,\n",
       "         '21.46': 1,\n",
       "         'volume': 45,\n",
       "         '2.4': 6,\n",
       "         '70,116': 1,\n",
       "         'property': 42,\n",
       "         'portfolio': 24,\n",
       "         'kapiteeli': 1,\n",
       "         '2,686.2': 1,\n",
       "         '1,259.7': 1,\n",
       "         'february': 45,\n",
       "         '2011': 74,\n",
       "         'medium': 77,\n",
       "         'sanoma': 28,\n",
       "         'hel': 120,\n",
       "         ':': 363,\n",
       "         'saa1v': 2,\n",
       "         'yesterday': 25,\n",
       "         'almost': 15,\n",
       "         'triple': 4,\n",
       "         'eur297': 1,\n",
       "         'eur107': 1,\n",
       "         'proposal': 12,\n",
       "         'payout': 1,\n",
       "         'eliiv': 1,\n",
       "         'eps': 45,\n",
       "         '.13': 1,\n",
       "         'aspo': 30,\n",
       "         'plc': 69,\n",
       "         'stock': 102,\n",
       "         'exchange': 70,\n",
       "         'release': 67,\n",
       "         '11': 24,\n",
       "         'at8': 1,\n",
       "         '.45': 1,\n",
       "         'a.m.': 12,\n",
       "         'esl': 5,\n",
       "         'shipping': 23,\n",
       "         'part': 99,\n",
       "         'rautaruukki': 22,\n",
       "         'marine': 9,\n",
       "         'transport': 15,\n",
       "         'baltic': 47,\n",
       "         'sea': 15,\n",
       "         'commission': 17,\n",
       "         '22': 23,\n",
       "         '4.4': 3,\n",
       "         'lending': 4,\n",
       "         '13.5': 5,\n",
       "         'traffic': 31,\n",
       "         'measure': 41,\n",
       "         'passenger': 25,\n",
       "         'kilometre': 4,\n",
       "         'rpk': 2,\n",
       "         'go': 47,\n",
       "         'available': 40,\n",
       "         'seat': 7,\n",
       "         'ask': 6,\n",
       "         'january-september': 15,\n",
       "         'fiskars': 34,\n",
       "         '14': 24,\n",
       "         '65.4': 2,\n",
       "         '525.3': 1,\n",
       "         '487.7': 1,\n",
       "         '16.5': 4,\n",
       "         '14.0': 2,\n",
       "         '22.6': 2,\n",
       "         '15.2': 2,\n",
       "         'nyrstar': 2,\n",
       "         'also': 224,\n",
       "         'agree': 39,\n",
       "         'supply': 68,\n",
       "         'talvivaara': 19,\n",
       "         '150,000': 2,\n",
       "         'tonne': 27,\n",
       "         'sulphuric': 2,\n",
       "         'acid': 2,\n",
       "         'annum': 3,\n",
       "         'leach': 1,\n",
       "         'process': 56,\n",
       "         'zinc': 7,\n",
       "         'concentrate': 10,\n",
       "         'department': 16,\n",
       "         'store': 51,\n",
       "         'hobby': 5,\n",
       "         'hall': 7,\n",
       "         '7': 29,\n",
       "         'seppala': 5,\n",
       "         'decrease': 90,\n",
       "         '4': 39,\n",
       "         'export': 26,\n",
       "         'due': 39,\n",
       "         'rate': 29,\n",
       "         'operation': 165,\n",
       "         'strengthens': 5,\n",
       "         'partnership': 13,\n",
       "         'siemens': 19,\n",
       "         'network': 98,\n",
       "         'biohit': 16,\n",
       "         'healthcare': 7,\n",
       "         'uk-based': 1,\n",
       "         'public': 24,\n",
       "         'develops': 8,\n",
       "         'liquid': 14,\n",
       "         'handle': 41,\n",
       "         'product': 187,\n",
       "         'diagnostic': 5,\n",
       "         'test': 24,\n",
       "         'system': 140,\n",
       "         'already': 38,\n",
       "         'carry': 31,\n",
       "         '141.7': 1,\n",
       "         'book': 19,\n",
       "         'stood': 14,\n",
       "         'bln': 8,\n",
       "         '$': 215,\n",
       "         '2.2': 11,\n",
       "         '24.2': 2,\n",
       "         'pct': 99,\n",
       "         '365': 2,\n",
       "         'mln': 287,\n",
       "         '534.3': 1,\n",
       "         'paper': 96,\n",
       "         'main': 27,\n",
       "         'include': 196,\n",
       "         'publication': 4,\n",
       "         'price': 111,\n",
       "         'world': 53,\n",
       "         'second': 83,\n",
       "         'stainless': 14,\n",
       "         'steel': 56,\n",
       "         'maker': 80,\n",
       "         'dec.': 9,\n",
       "         'euro603': 1,\n",
       "         'us$': 19,\n",
       "         '781': 1,\n",
       "         'euro3': 1,\n",
       "         '.33': 1,\n",
       "         '4.31': 1,\n",
       "         'euro172': 1,\n",
       "         'euro0': 1,\n",
       "         '.94': 1,\n",
       "         'previous': 28,\n",
       "         'within': 21,\n",
       "         'framework': 6,\n",
       "         'initial': 8,\n",
       "         'sitronics': 1,\n",
       "         'jsc': 2,\n",
       "         'mikron': 1,\n",
       "         'manufacturer': 60,\n",
       "         'exporter': 2,\n",
       "         'microelectronic': 1,\n",
       "         'component': 20,\n",
       "         '0.2': 6,\n",
       "         'eur10': 7,\n",
       "         'eur6': 7,\n",
       "         'abroad': 9,\n",
       "         '6.2': 4,\n",
       "         'country': 75,\n",
       "         'well': 116,\n",
       "         'ukraine': 8,\n",
       "         'standard': 16,\n",
       "         'charter': 7,\n",
       "         'stan': 1,\n",
       "         '1.2': 16,\n",
       "         'ftse': 8,\n",
       "         '100': 33,\n",
       "         'royal': 5,\n",
       "         'bank': 144,\n",
       "         'scotland': 1,\n",
       "         'rb': 1,\n",
       "         '2': 41,\n",
       "         'barclays': 5,\n",
       "         'barc': 2,\n",
       "         'bcs': 2,\n",
       "         '1.7': 10,\n",
       "         'corp.': 24,\n",
       "         'thursday': 22,\n",
       "         'cell': 6,\n",
       "         'phone': 63,\n",
       "         'third-quarter': 5,\n",
       "         'global': 69,\n",
       "         'financial': 133,\n",
       "         'publish': 36,\n",
       "         'friday': 34,\n",
       "         'seb': 3,\n",
       "         'soar': 2,\n",
       "         'sek6': 1,\n",
       "         '.745': 1,\n",
       "         'bn': 25,\n",
       "         'sek1': 2,\n",
       "         '.114': 1,\n",
       "         '50': 23,\n",
       "         '.50': 3,\n",
       "         '15': 37,\n",
       "         'meanwhile': 6,\n",
       "         '12': 28,\n",
       "         'request': 4,\n",
       "         'alma': 33,\n",
       "         'newspaper': 19,\n",
       "         'research': 29,\n",
       "         'manager': 26,\n",
       "         'jari': 2,\n",
       "         'kaivo-oja': 1,\n",
       "         'future': 30,\n",
       "         'centre': 13,\n",
       "         'turku': 9,\n",
       "         'school': 3,\n",
       "         'economics': 1,\n",
       "         'drawn': 1,\n",
       "         'scenario': 1,\n",
       "         'national': 17,\n",
       "         'model': 29,\n",
       "         'developed': 41,\n",
       "         'university': 12,\n",
       "         'denver': 1,\n",
       "         'sweden': 45,\n",
       "         'gallerix': 3,\n",
       "         'accumulate': 2,\n",
       "         'sek': 15,\n",
       "         'denominate': 2,\n",
       "         '1': 64,\n",
       "         'support': 52,\n",
       "         'fast': 7,\n",
       "         'route': 16,\n",
       "         'development': 91,\n",
       "         'application': 57,\n",
       "         'place': 41,\n",
       "         'atrium': 23,\n",
       "         'expand': 42,\n",
       "         'moscow': 16,\n",
       "         '``': 254,\n",
       "         'continuation': 4,\n",
       "         'theagreement': 1,\n",
       "         'lemminkainen': 16,\n",
       "         'whereby': 7,\n",
       "         'cramo': 25,\n",
       "         'acquire': 73,\n",
       "         'entire': 20,\n",
       "         'fleet': 10,\n",
       "         'oflemminkainen': 1,\n",
       "         'talo': 2,\n",
       "         'oy': 97,\n",
       "         'ita': 1,\n",
       "         'ja': 1,\n",
       "         'pohjois': 1,\n",
       "         'suomo': 1,\n",
       "         'asimilar': 2,\n",
       "         \"''\": 217,\n",
       "         'tatu': 1,\n",
       "         'hauhio': 1,\n",
       "         'manage': 42,\n",
       "         'ofcramo': 1,\n",
       "         'envisage': 3,\n",
       "         'three': 37,\n",
       "         'ferryboat': 1,\n",
       "         'option': 60,\n",
       "         'two': 85,\n",
       "         'confirm': 9,\n",
       "         '500': 6,\n",
       "         '645.8': 1,\n",
       "         'june': 36,\n",
       "         'sell': 91,\n",
       "         'stake': 62,\n",
       "         'nordstjernan': 6,\n",
       "         'take': 62,\n",
       "         'eqt': 4,\n",
       "         'remain': 49,\n",
       "         'kesko': 23,\n",
       "         '28.02.2008': 1,\n",
       "         '09.30': 1,\n",
       "         'acquires': 4,\n",
       "         'capital': 111,\n",
       "         'kauko-telko': 5,\n",
       "         'wholly': 4,\n",
       "         'sponda': 16,\n",
       "         '5': 47,\n",
       "         '15.45': 1,\n",
       "         'syndicate': 9,\n",
       "         'one-year': 2,\n",
       "         'announcement': 19,\n",
       "         'july': 32,\n",
       "         'subscription': 33,\n",
       "         'warrant': 4,\n",
       "         '119': 1,\n",
       "         '850': 1,\n",
       "         'subscribed': 19,\n",
       "         'program': 43,\n",
       "         'cover': 54,\n",
       "         'hdo': 1,\n",
       "         'platform': 23,\n",
       "         'ac800': 1,\n",
       "         'cxe880': 1,\n",
       "         'optical': 2,\n",
       "         'fttb': 1,\n",
       "         'node': 1,\n",
       "         'design': 80,\n",
       "         'forward': 18,\n",
       "         'return': 23,\n",
       "         'path': 1,\n",
       "         'transmission': 4,\n",
       "         'electricity': 16,\n",
       "         'generation': 13,\n",
       "         '350': 2,\n",
       "         'megawatt': 2,\n",
       "         'mw': 10,\n",
       "         'heat': 10,\n",
       "         'omx': 91,\n",
       "         '25': 30,\n",
       "         '0.92': 1,\n",
       "         '2,518.67': 1,\n",
       "         'cap': 13,\n",
       "         '0.91': 1,\n",
       "         '4,711.19': 1,\n",
       "         'car': 15,\n",
       "         'considerably': 9,\n",
       "         'influence': 1,\n",
       "         'tire': 10,\n",
       "         'maximum': 23,\n",
       "         '666,104': 1,\n",
       "         'exercise': 7,\n",
       "         'b': 17,\n",
       "         'issue': 72,\n",
       "         '391,630': 1,\n",
       "         '15,665.20': 1,\n",
       "         'real': 34,\n",
       "         'estate': 33,\n",
       "         'investor': 43,\n",
       "         'wednesday': 26,\n",
       "         'march': 53,\n",
       "         'danske': 11,\n",
       "         'a-s': 5,\n",
       "         'branch': 12,\n",
       "         '7-year': 2,\n",
       "         'eur150m': 3,\n",
       "         'ilmarinen': 2,\n",
       "         'mutual': 3,\n",
       "         'pension': 17,\n",
       "         'eur50m': 3,\n",
       "         'estonia': 28,\n",
       "         '36': 10,\n",
       "         'fell': 56,\n",
       "         '9': 23,\n",
       "         'synergy': 7,\n",
       "         'scale': 6,\n",
       "         'grimaldi': 9,\n",
       "         'personnel': 38,\n",
       "         'adjustment': 9,\n",
       "         'divestments': 1,\n",
       "         'redelivery': 1,\n",
       "         'excess': 7,\n",
       "         'tonnage': 1,\n",
       "         'rinkuskiai': 2,\n",
       "         '18.1': 3,\n",
       "         '1.37': 1,\n",
       "         'kauno': 2,\n",
       "         'alus': 4,\n",
       "         '14.3': 3,\n",
       "         '960,000': 1,\n",
       "         'telecomworldwire-7': 2,\n",
       "         'april': 44,\n",
       "         '2006-tj': 2,\n",
       "         'morning': 7,\n",
       "         'digital': 23,\n",
       "         'tj': 2,\n",
       "         'edita': 2,\n",
       "         '718,430': 1,\n",
       "         'series': 10,\n",
       "         'become': 34,\n",
       "         'subject': 9,\n",
       "         'trading': 19,\n",
       "         'list': 30,\n",
       "         'together': 13,\n",
       "         'old': 13,\n",
       "         'fuel': 17,\n",
       "         'november': 38,\n",
       "         'tiimari': 14,\n",
       "         'operates': 23,\n",
       "         '194': 1,\n",
       "         'six': 24,\n",
       "         '--': 64,\n",
       "         'generate': 29,\n",
       "         'turnover': 38,\n",
       "         '76.5': 1,\n",
       "         'becomes': 3,\n",
       "         'supplier': 44,\n",
       "         'pipettors': 3,\n",
       "         'disposable': 3,\n",
       "         'pipettor': 1,\n",
       "         'tip': 5,\n",
       "         'vwr': 3,\n",
       "         'throughout': 7,\n",
       "         'europe': 43,\n",
       "         'combination': 5,\n",
       "         'enable': 31,\n",
       "         'complex': 11,\n",
       "         'limited': 9,\n",
       "         'port': 18,\n",
       "         'connection': 12,\n",
       "         'get': 17,\n",
       "         'access': 19,\n",
       "         'wide': 10,\n",
       "         'mediterranean': 2,\n",
       "         'africa': 12,\n",
       "         'north': 34,\n",
       "         'america': 33,\n",
       "         'uwe': 1,\n",
       "         'bakosch': 1,\n",
       "         'blind-spots': 1,\n",
       "         'vantage': 1,\n",
       "         'point': 29,\n",
       "         'allows': 10,\n",
       "         'investigator': 2,\n",
       "         'see': 34,\n",
       "         'whole': 28,\n",
       "         'story': 3,\n",
       "         'resolution': 3,\n",
       "         'unbroken': 1,\n",
       "         'video': 23,\n",
       "         'still': 13,\n",
       "         'slightly': 18,\n",
       "         'level': 41,\n",
       "         'add': 48,\n",
       "         'predictability': 1,\n",
       "         'poor': 4,\n",
       "         'trustworthy': 1,\n",
       "         'forecast': 22,\n",
       "         'current': 32,\n",
       "         'kemira': 29,\n",
       "         'position': 46,\n",
       "         'metal': 33,\n",
       "         'coating': 10,\n",
       "         'finnlines': 11,\n",
       "         '505.4': 1,\n",
       "         '473.5': 1,\n",
       "         'adjust': 8,\n",
       "         'change': 47,\n",
       "         'structure': 40,\n",
       "         'optimize': 1,\n",
       "         'operational': 18,\n",
       "         'efficiency': 18,\n",
       "         'julia': 1,\n",
       "         'prohaska': 1,\n",
       "         'marketing': 29,\n",
       "         'communication': 56,\n",
       "         'invest': 35,\n",
       "         'physical': 3,\n",
       "         'infrastructure': 27,\n",
       "         'provide': 113,\n",
       "         'know-how': 6,\n",
       "         'science': 13,\n",
       "         'sunrise': 2,\n",
       "         'valley': 3,\n",
       "         'andrius': 1,\n",
       "         'bagdonas': 1,\n",
       "         'broadband': 20,\n",
       "         'data': 67,\n",
       "         'tlt1v': 6,\n",
       "         'saw': 8,\n",
       "         'jump': 1,\n",
       "         'eur2': 19,\n",
       "         'eur995': 1,\n",
       "         ',000': 19,\n",
       "         'aktia': 11,\n",
       "         '17.5': 4,\n",
       "         '8.2': 2,\n",
       "         '+_land': 11,\n",
       "         '4.8': 4,\n",
       "         '6.4': 4,\n",
       "         '44.4': 1,\n",
       "         '37.3': 1,\n",
       "         'vaahto': 19,\n",
       "         '41.8': 1,\n",
       "         'accounting': 11,\n",
       "         '11.2': 5,\n",
       "         'food': 46,\n",
       "         'l+ænnen': 10,\n",
       "         'tehtaat': 10,\n",
       "         'continue': 62,\n",
       "         '13': 16,\n",
       "         '349.1': 1,\n",
       "         '309.6': 1,\n",
       "         'individual': 7,\n",
       "         'promotion': 2,\n",
       "         'higher-than-expected': 1,\n",
       "         'many': 14,\n",
       "         'genesis': 2,\n",
       "         'respectively': 24,\n",
       "         'eur8': 3,\n",
       "         'circulation': 3,\n",
       "         '7.0': 3,\n",
       "         '30.8': 2,\n",
       "         '10-15': 1,\n",
       "         'annually': 8,\n",
       "         'swedish': 45,\n",
       "         'experience': 28,\n",
       "         'annual': 69,\n",
       "         'however': 58,\n",
       "         'favourable': 6,\n",
       "         'trend': 11,\n",
       "         'cash': 47,\n",
       "         'flow': 27,\n",
       "         'activity': 36,\n",
       "         'eur121m': 1,\n",
       "         'eur97m': 1,\n",
       "         'lithuania': 14,\n",
       "         '190,000': 1,\n",
       "         '70,000': 2,\n",
       "         'fourth': 31,\n",
       "         '1,050.7': 1,\n",
       "         '1,027.0': 1,\n",
       "         '59.8': 2,\n",
       "         '1,244.4': 1,\n",
       "         'kalmar': 8,\n",
       "         'espana': 1,\n",
       "         '11.3': 3,\n",
       "         '14.8': 1,\n",
       "         'x20ac': 20,\n",
       "         '402': 1,\n",
       "         '585us': 1,\n",
       "         '401': 1,\n",
       "         'eur655m': 1,\n",
       "         'eur438m': 1,\n",
       "         '25.5': 1,\n",
       "         'eur59': 1,\n",
       "         'charger': 13,\n",
       "         'deliver': 62,\n",
       "         '41': 5,\n",
       "         '65.9': 1,\n",
       "         'piece': 3,\n",
       "         '93.6': 1,\n",
       "         '93.2': 1,\n",
       "         'note': 20,\n",
       "         'decline': 21,\n",
       "         'though': 2,\n",
       "         'mobile': 134,\n",
       "         'year-ago': 4,\n",
       "         '145.1': 3,\n",
       "         '8.3': 7,\n",
       "         '3.4': 10,\n",
       "         '11.7': 4,\n",
       "         '3.11': 1,\n",
       "         '1.22': 2,\n",
       "         '5mn': 1,\n",
       "         '2.8': 6,\n",
       "         '24.5': 1,\n",
       "         '23.0': 2,\n",
       "         'ramirent': 19,\n",
       "         'quarterended': 1,\n",
       "         '128.7': 1,\n",
       "         'u.s.': 28,\n",
       "         '163': 1,\n",
       "         '3.3-percent': 1,\n",
       "         '124.6': 1,\n",
       "         'thesecond': 1,\n",
       "         '580': 1,\n",
       "         '743': 1,\n",
       "         '569': 1,\n",
       "         'ruukki': 42,\n",
       "         'aker': 8,\n",
       "         'norway': 17,\n",
       "         'suction': 1,\n",
       "         'anchor': 2,\n",
       "         'kalajoki': 1,\n",
       "         'show': 16,\n",
       "         'comparable': 13,\n",
       "         'eur647m': 1,\n",
       "         'ceo': 78,\n",
       "         'sakari': 1,\n",
       "         'tamminen': 1,\n",
       "         'magazine': 24,\n",
       "         'gdp': 1,\n",
       "         'overall': 13,\n",
       "         'weekly': 3,\n",
       "         'basis': 13,\n",
       "         '40,000': 3,\n",
       "         '50,000': 4,\n",
       "         '15.86': 1,\n",
       "         '4.14': 2,\n",
       "         'cent': 38,\n",
       "         '2.803': 1,\n",
       "         'end': 91,\n",
       "         '2.691': 1,\n",
       "         'ago': 23,\n",
       "         'best': 17,\n",
       "         'major': 34,\n",
       "         'brewery': 9,\n",
       "         'domestic': 16,\n",
       "         '4.5': 16,\n",
       "         '256.88': 3,\n",
       "         'litre': 8,\n",
       "         '245.92': 2,\n",
       "         'transaction': 60,\n",
       "         'tecnomens': 1,\n",
       "         'workforse': 1,\n",
       "         '26.9': 3,\n",
       "         '105.8': 1,\n",
       "         '83.4': 1,\n",
       "         'rental': 29,\n",
       "         'latvian': 5,\n",
       "         'priority': 2,\n",
       "         'balance': 13,\n",
       "         'sheet': 11,\n",
       "         'hannu': 7,\n",
       "         'krook': 1,\n",
       "         'yit': 37,\n",
       "         'building': 96,\n",
       "         'geographically': 1,\n",
       "         '21': 17,\n",
       "         'october': 58,\n",
       "         'fishing': 12,\n",
       "         'tackle': 5,\n",
       "         'rapala': 25,\n",
       "         'vmc': 10,\n",
       "         'corp': 17,\n",
       "         'rap1v': 2,\n",
       "         'eur18': 2,\n",
       "         'nine': 44,\n",
       "         'eur15': 6,\n",
       "         'bim': 4,\n",
       "         'information': 59,\n",
       "         'software': 75,\n",
       "         'tekla': 20,\n",
       "         'model-based': 1,\n",
       "         'adopt': 3,\n",
       "         'management': 88,\n",
       "         'project': 124,\n",
       "         'abu': 1,\n",
       "         'dhabi': 1,\n",
       "         ...})"
      ]
     },
     "execution_count": 56,
     "metadata": {},
     "output_type": "execute_result"
    }
   ],
   "source": [
    "counter"
   ]
  },
  {
   "cell_type": "code",
   "execution_count": 57,
   "metadata": {},
   "outputs": [],
   "source": [
    "num_words = len(counter)"
   ]
  },
  {
   "cell_type": "markdown",
   "metadata": {},
   "source": [
    "# Train/Test Split:"
   ]
  },
  {
   "cell_type": "code",
   "execution_count": 59,
   "metadata": {},
   "outputs": [],
   "source": [
    "# Generating the lists of headlines and labels\n",
    "headlines = []\n",
    "labels = []\n",
    "\n",
    "for row in range(len(df)):\n",
    "    headlines.append(df['Headline'][row])\n",
    "    labels.append(df['Sentiment'][row])"
   ]
  },
  {
   "cell_type": "code",
   "execution_count": 60,
   "metadata": {},
   "outputs": [],
   "source": [
    "# Setting the training ratio\n",
    "training_size = int(df.shape[0] * .8) # Out of 4846"
   ]
  },
  {
   "cell_type": "code",
   "execution_count": 61,
   "metadata": {},
   "outputs": [],
   "source": [
    "# Train Test Split:\n",
    "training_headlines = headlines[0:training_size]\n",
    "testing_headlines = headlines[training_size:]\n",
    "training_labels = labels[0:training_size]\n",
    "testing_labels = labels[training_size:]"
   ]
  },
  {
   "cell_type": "code",
   "execution_count": 62,
   "metadata": {},
   "outputs": [
    {
     "data": {
      "text/plain": [
       "['accord gran , plan move production russia , although grow .',\n",
       " 'technopolis plan develop stage area less 100,000 square meter order host work computer technology telecommunication , statement .',\n",
       " 'international electronic industry elcoteq laid ten employee tallinn facility ; contrary earlier layoff contract rank office worker , daily postimees report .']"
      ]
     },
     "metadata": {},
     "output_type": "display_data"
    },
    {
     "data": {
      "text/plain": [
       "[1, 1, 0]"
      ]
     },
     "metadata": {},
     "output_type": "display_data"
    }
   ],
   "source": [
    "# Looks good\n",
    "display(training_headlines[:3])\n",
    "display(training_labels[:3])"
   ]
  },
  {
   "cell_type": "markdown",
   "metadata": {},
   "source": [
    "# Tokenization:"
   ]
  },
  {
   "cell_type": "code",
   "execution_count": 63,
   "metadata": {},
   "outputs": [],
   "source": [
    "vocab_size = len(counter) \n",
    "embedding_dim = 16\n",
    "max_length = 50\n",
    "trunc_type='post'\n",
    "padding_type='post'\n",
    "oov_tok = \"<OOV>\""
   ]
  },
  {
   "cell_type": "code",
   "execution_count": 64,
   "metadata": {},
   "outputs": [],
   "source": [
    "\n",
    "# Initializing the fitting the tokenizer:\n",
    "tokenizer = Tokenizer(num_words = vocab_size, oov_token = oov_tok)\n",
    "tokenizer.fit_on_texts(training_headlines)\n",
    "# Initializing the Word Index:\n",
    "word_index = tokenizer.word_index\n",
    "# Padding and Sequencing the Training Set:\n",
    "training_sequences = tokenizer.texts_to_sequences(training_headlines)\n",
    "training_padded = pad_sequences(training_sequences, maxlen = max_length,\n",
    "                               padding = padding_type, \n",
    "                               truncating = trunc_type)\n",
    "# Padding and Sequencing the Testing Set:\n",
    "testing_sequences = tokenizer.texts_to_sequences(testing_headlines)\n",
    "testing_padded = pad_sequences(testing_sequences, maxlen = max_length, \n",
    "                               padding = padding_type, \n",
    "                               truncating = trunc_type)\n"
   ]
  },
  {
   "cell_type": "code",
   "execution_count": 69,
   "metadata": {},
   "outputs": [],
   "source": [
    "# Switch to Numpy Array\n",
    "training_padded = np.array(training_padded)\n",
    "training_labels = np.array(training_labels)\n",
    "testing_padded = np.array(testing_padded)\n",
    "testing_labels = np.array(testing_labels)"
   ]
  },
  {
   "cell_type": "code",
   "execution_count": 70,
   "metadata": {},
   "outputs": [
    {
     "name": "stdout",
     "output_type": "stream",
     "text": [
      "Padded and Tokenized Headline:\n",
      " [  16   67   52  115   24  211 1235   61   24  415  115  226   74  646\n",
      "  232 1542   24   67  941    0    0    0    0    0    0    0    0    0\n",
      "    0    0    0    0    0    0    0    0    0    0    0    0    0    0\n",
      "    0    0    0    0    0    0    0    0]\n",
      "\n",
      "The actual headline:\n",
      " new production plant would increase capacity meet expect increase demand would improve use raw material therefore increase production profitability .\n",
      "\n",
      "Label:\n",
      " 2\n"
     ]
    }
   ],
   "source": [
    "# Example of what's happening under the hood:\n",
    "print ('Padded and Tokenized Headline:\\n', training_padded[3])\n",
    "print ('\\nThe actual headline:\\n', df.Headline[3])\n",
    "print ('\\nLabel:\\n', training_labels[3])"
   ]
  },
  {
   "cell_type": "markdown",
   "metadata": {},
   "source": [
    "## One Hot Encoding Labels"
   ]
  },
  {
   "cell_type": "code",
   "execution_count": 82,
   "metadata": {},
   "outputs": [
    {
     "data": {
      "text/plain": [
       "((3876, 3), (970, 3))"
      ]
     },
     "execution_count": 82,
     "metadata": {},
     "output_type": "execute_result"
    }
   ],
   "source": [
    "# One Hot Encoding:\n",
    "from keras.utils import to_categorical\n",
    "from sklearn.preprocessing import OneHotEncoder\n",
    "\n",
    "encoder = OneHotEncoder()\n",
    "training_labels = to_categorical(training_labels)\n",
    "testing_labels = to_categorical(testing_labels)\n",
    "training_labels.shape, testing_labels.shape"
   ]
  },
  {
   "cell_type": "markdown",
   "metadata": {},
   "source": [
    "# TEST NEURAL NETWORK - LSTM:"
   ]
  },
  {
   "cell_type": "code",
   "execution_count": 73,
   "metadata": {},
   "outputs": [],
   "source": [
    "from keras.models import Sequential\n",
    "from keras.layers import Embedding, LSTM, Dense, Dropout\n",
    "from keras.initializers import Constant\n",
    "from keras.optimizers import Adam"
   ]
  },
  {
   "cell_type": "code",
   "execution_count": 111,
   "metadata": {},
   "outputs": [],
   "source": [
    "model = Sequential()\n",
    "\n",
    "model.add(Embedding(num_words, 32, input_length = max_length))\n",
    "model.add(LSTM(64, dropout = 0.1))\n",
    "model.add(layers.Dense(3, activation='softmax'))\n",
    "\n",
    "optimizer = 'Adam'\n",
    "\n",
    "model.compile(loss = 'categorical_crossentropy', optimizer = optimizer,\n",
    "             metrics = ['accuracy'])"
   ]
  },
  {
   "cell_type": "code",
   "execution_count": 112,
   "metadata": {},
   "outputs": [
    {
     "name": "stdout",
     "output_type": "stream",
     "text": [
      "_________________________________________________________________\n",
      "Layer (type)                 Output Shape              Param #   \n",
      "=================================================================\n",
      "embedding_16 (Embedding)     (None, 50, 32)            323008    \n",
      "_________________________________________________________________\n",
      "lstm_15 (LSTM)               (None, 64)                24832     \n",
      "_________________________________________________________________\n",
      "dense_16 (Dense)             (None, 10)                650       \n",
      "_________________________________________________________________\n",
      "dense_17 (Dense)             (None, 3)                 33        \n",
      "=================================================================\n",
      "Total params: 348,523\n",
      "Trainable params: 348,523\n",
      "Non-trainable params: 0\n",
      "_________________________________________________________________\n"
     ]
    }
   ],
   "source": [
    "model.summary()"
   ]
  },
  {
   "cell_type": "code",
   "execution_count": 113,
   "metadata": {},
   "outputs": [
    {
     "name": "stdout",
     "output_type": "stream",
     "text": [
      "Train on 3876 samples, validate on 970 samples\n",
      "Epoch 1/3\n",
      "3876/3876 [==============================] - 9s 2ms/step - loss: 0.8215 - acc: 0.5583 - val_loss: 1.9362 - val_acc: 0.4113\n",
      "Epoch 2/3\n",
      "3876/3876 [==============================] - 7s 2ms/step - loss: 0.7573 - acc: 0.6398 - val_loss: 2.2042 - val_acc: 0.4113\n",
      "Epoch 3/3\n",
      "3876/3876 [==============================] - 7s 2ms/step - loss: 0.7564 - acc: 0.6398 - val_loss: 2.2222 - val_acc: 0.4113\n"
     ]
    }
   ],
   "source": [
    "history = model.fit(training_padded, training_labels, epochs = 3,\n",
    "                   validation_data = (testing_padded, testing_labels))"
   ]
  },
  {
   "cell_type": "code",
   "execution_count": 89,
   "metadata": {},
   "outputs": [
    {
     "data": {
      "image/png": "[encoded data removed]",
      "text/plain": [
       "<Figure size 432x288 with 1 Axes>"
      ]
     },
     "metadata": {
      "needs_background": "light"
     },
     "output_type": "display_data"
    },
    {
     "data": {
      "image/png": "[encoded data removed]",
      "text/plain": [
       "<Figure size 432x288 with 1 Axes>"
      ]
     },
     "metadata": {
      "needs_background": "light"
     },
     "output_type": "display_data"
    }
   ],
   "source": [
    "plot_graphs(history, \"acc\")\n",
    "plot_graphs(history, \"loss\")"
   ]
  },
  {
   "cell_type": "markdown",
   "metadata": {},
   "source": [
    "## Taking a Look at Inputs:"
   ]
  },
  {
   "cell_type": "code",
   "execution_count": 27,
   "metadata": {},
   "outputs": [
    {
     "data": {
      "text/plain": [
       "'accord gran , plan move production russia , although grow .'"
      ]
     },
     "metadata": {},
     "output_type": "display_data"
    },
    {
     "name": "stdout",
     "output_type": "stream",
     "text": [
      "-----------------\n"
     ]
    },
    {
     "data": {
      "text/plain": [
       "array([  66, 2625,  113,  398,   67,   98, 2626,  142,    0,    0,    0,\n",
       "          0,    0,    0,    0,    0,    0,    0,    0,    0,    0,    0,\n",
       "          0,    0,    0,    0,    0,    0,    0,    0,    0,    0,    0,\n",
       "          0,    0,    0,    0,    0,    0,    0,    0,    0,    0,    0,\n",
       "          0,    0,    0,    0,    0,    0], dtype=int32)"
      ]
     },
     "metadata": {},
     "output_type": "display_data"
    },
    {
     "name": "stdout",
     "output_type": "stream",
     "text": [
      "-----------------\n"
     ]
    },
    {
     "data": {
      "text/plain": [
       "array([0., 1., 0.], dtype=float32)"
      ]
     },
     "metadata": {},
     "output_type": "display_data"
    },
    {
     "name": "stdout",
     "output_type": "stream",
     "text": [
      "-----------------\n"
     ]
    },
    {
     "data": {
      "text/plain": [
       "'orange-handled scissors fiskars part permanent design collection museum modern art new york , well philadelphia museum art .'"
      ]
     },
     "metadata": {},
     "output_type": "display_data"
    },
    {
     "name": "stdout",
     "output_type": "stream",
     "text": [
      "-----------------\n"
     ]
    },
    {
     "data": {
      "text/plain": [
       "array([1321, 5946, 1691,  404,  104, 1921,  120, 1899, 4970, 1734, 1097,\n",
       "         16, 1492,   70,    1, 4970, 1097,    0,    0,    0,    0,    0,\n",
       "          0,    0,    0,    0,    0,    0,    0,    0,    0,    0,    0,\n",
       "          0,    0,    0,    0,    0,    0,    0,    0,    0,    0,    0,\n",
       "          0,    0,    0,    0,    0,    0], dtype=int32)"
      ]
     },
     "metadata": {},
     "output_type": "display_data"
    },
    {
     "name": "stdout",
     "output_type": "stream",
     "text": [
      "-----------------\n"
     ]
    },
    {
     "data": {
      "text/plain": [
       "array([0., 1., 0.], dtype=float32)"
      ]
     },
     "metadata": {},
     "output_type": "display_data"
    },
    {
     "name": "stdout",
     "output_type": "stream",
     "text": [
      "-----------------\n"
     ]
    }
   ],
   "source": [
    "# So far looks good:\n",
    "n = 0\n",
    "\n",
    "display(training_headlines[n])\n",
    "print('-----------------')\n",
    "display(training_padded[n])\n",
    "print('-----------------')\n",
    "display(training_labels[n])\n",
    "print('-----------------')\n",
    "\n",
    "display(testing_headlines[n])\n",
    "print('-----------------')\n",
    "display(testing_padded[n])\n",
    "print('-----------------')\n",
    "display(testing_labels[n])\n",
    "print('-----------------')\n"
   ]
  },
  {
   "cell_type": "markdown",
   "metadata": {},
   "source": [
    "# Neural Network:"
   ]
  },
  {
   "cell_type": "code",
   "execution_count": 84,
   "metadata": {},
   "outputs": [],
   "source": [
    "# First let's define the functions for model evaluation\n",
    "def model_eval(history):\n",
    "    pd.DataFrame(history.history).plot(figsize = (8,5))\n",
    "    plt.grid(True)\n",
    "    plt.gca().set_ylim(0, 1)\n",
    "    plt.show\n",
    "def plot_graphs(history, string):\n",
    "  plt.plot(history.history[string])\n",
    "  plt.plot(history.history['val_'+string])\n",
    "  plt.xlabel(\"Epochs\")\n",
    "  plt.ylabel(string)\n",
    "  plt.legend([string, 'val_'+string])\n",
    "  plt.show()\n",
    "  "
   ]
  },
  {
   "cell_type": "markdown",
   "metadata": {},
   "source": [
    "Now it's time to build a baseline neural network:"
   ]
  },
  {
   "cell_type": "code",
   "execution_count": null,
   "metadata": {},
   "outputs": [],
   "source": [
    "## TEST ZONE"
   ]
  },
  {
   "cell_type": "code",
   "execution_count": 30,
   "metadata": {},
   "outputs": [],
   "source": [
    "from keras import layers\n",
    "maxlen = 50\n",
    "embedding_dim = 50\n",
    "\n",
    "model = Sequential()\n",
    "model.add(layers.Embedding(input_dim=vocab_size, \n",
    "                           output_dim=embedding_dim, \n",
    "                           input_length=maxlen))\n",
    "model.add(layers.Flatten())\n",
    "model.add(layers.Dense(10, activation='relu'))\n",
    "model.add(layers.Dense(3, activation='softmax'))\n",
    "model.compile(optimizer='adam',\n",
    "              loss='categorical_crossentropy',\n",
    "              metrics=['accuracy'])\n",
    "#model.summary()"
   ]
  },
  {
   "cell_type": "code",
   "execution_count": 32,
   "metadata": {},
   "outputs": [
    {
     "name": "stdout",
     "output_type": "stream",
     "text": [
      "Train on 3876 samples, validate on 970 samples\n",
      "Epoch 1/5\n",
      "3876/3876 [==============================] - 1s 236us/step - loss: 0.0609 - acc: 0.9688 - val_loss: 2.3386 - val_acc: 0.3918\n",
      "Epoch 2/5\n",
      "3876/3876 [==============================] - 1s 233us/step - loss: 0.0468 - acc: 0.9703 - val_loss: 2.5342 - val_acc: 0.3990\n",
      "Epoch 3/5\n",
      "3876/3876 [==============================] - 1s 235us/step - loss: 0.0390 - acc: 0.9763 - val_loss: 2.8490 - val_acc: 0.3918\n",
      "Epoch 4/5\n",
      "3876/3876 [==============================] - 1s 236us/step - loss: 0.0324 - acc: 0.9925 - val_loss: 2.8676 - val_acc: 0.4000\n",
      "Epoch 5/5\n",
      "3876/3876 [==============================] - 1s 234us/step - loss: 0.0257 - acc: 0.9969 - val_loss: 2.9593 - val_acc: 0.3938\n"
     ]
    }
   ],
   "source": [
    "num_epochs = 5\n",
    "history = model.fit(training_padded, training_labels, \n",
    "                    epochs=num_epochs, \n",
    "                    validation_data=(testing_padded, testing_labels),\n",
    "                    batch_size = 32,\n",
    "                    verbose= 1)"
   ]
  },
  {
   "cell_type": "code",
   "execution_count": 33,
   "metadata": {},
   "outputs": [
    {
     "data": {
      "image/png": "[encoded data removed]",
      "text/plain": [
       "<Figure size 432x288 with 1 Axes>"
      ]
     },
     "metadata": {
      "needs_background": "light"
     },
     "output_type": "display_data"
    },
    {
     "data": {
      "image/png": "[encoded data removed]",
      "text/plain": [
       "<Figure size 432x288 with 1 Axes>"
      ]
     },
     "metadata": {
      "needs_background": "light"
     },
     "output_type": "display_data"
    }
   ],
   "source": [
    "plot_graphs(history, \"acc\")\n",
    "plot_graphs(history, \"loss\")"
   ]
  },
  {
   "cell_type": "code",
   "execution_count": null,
   "metadata": {},
   "outputs": [],
   "source": []
  },
  {
   "cell_type": "code",
   "execution_count": null,
   "metadata": {},
   "outputs": [],
   "source": [
    "## End TEST ZONE "
   ]
  },
  {
   "cell_type": "markdown",
   "metadata": {},
   "source": [
    "## Model # 1:"
   ]
  },
  {
   "cell_type": "code",
   "execution_count": null,
   "metadata": {},
   "outputs": [],
   "source": [
    "model = keras.Sequential([\n",
    "    keras.layers.Embedding(vocab_size, embedding_dim, input_length=max_length),\n",
    "    keras.layers.GlobalAveragePooling1D(),\n",
    "    keras.layers.Dense(20, activation='relu'),\n",
    "#    keras.layers.Dropout(0.2), # Optional Regularization\n",
    "#    keras.layers.Dense(20, activation='relu'), # Optional second hidden layer\n",
    "    keras.layers.Dense(3, activation='softmax')])\n",
    "\n",
    "#model.compile(loss='binary_crossentropy',optimizer='Adam',metrics=['accuracy']) # Orig code\n",
    "model.compile(loss='categorical_crossentropy', optimizer='sgd', metrics=['accuracy']) # New code for 3 categories"
   ]
  },
  {
   "cell_type": "code",
   "execution_count": null,
   "metadata": {},
   "outputs": [],
   "source": [
    "#model.summary()"
   ]
  },
  {
   "cell_type": "code",
   "execution_count": null,
   "metadata": {},
   "outputs": [],
   "source": [
    "num_epochs = 10\n",
    "history = model.fit(training_padded, training_labels, \n",
    "                    epochs=num_epochs, \n",
    "                    validation_data=(testing_padded, testing_labels), \n",
    "                    verbose= 2)"
   ]
  },
  {
   "cell_type": "markdown",
   "metadata": {},
   "source": [
    "### Model Evaluation:"
   ]
  },
  {
   "cell_type": "code",
   "execution_count": null,
   "metadata": {},
   "outputs": [],
   "source": [
    "model_eval(history)"
   ]
  },
  {
   "cell_type": "code",
   "execution_count": null,
   "metadata": {},
   "outputs": [],
   "source": [
    "plot_graphs(history, \"acc\")\n",
    "plot_graphs(history, \"loss\")"
   ]
  },
  {
   "cell_type": "markdown",
   "metadata": {},
   "source": [
    "## Neural Network with Transfer Learning:"
   ]
  },
  {
   "cell_type": "markdown",
   "metadata": {},
   "source": [
    "### Model Evaluation:"
   ]
  },
  {
   "cell_type": "markdown",
   "metadata": {},
   "source": [
    "# Other:"
   ]
  },
  {
   "cell_type": "code",
   "execution_count": null,
   "metadata": {},
   "outputs": [],
   "source": [
    "print break_"
   ]
  },
  {
   "cell_type": "code",
   "execution_count": null,
   "metadata": {},
   "outputs": [],
   "source": [
    "reverse_word_index = dict([(value, key) for (key, value) in word_index.items()])\n",
    "\n",
    "def decode_sentence(text):\n",
    "    return ' '.join([reverse_word_index.get(i, '?') for i in text])\n",
    "\n",
    "print(decode_sentence(training_padded[0]))\n",
    "print(training_headlines[2])\n",
    "print(labels[2])"
   ]
  },
  {
   "cell_type": "code",
   "execution_count": null,
   "metadata": {},
   "outputs": [],
   "source": [
    "e = model.layers[0]\n",
    "weights = e.get_weights()[0]\n",
    "print(weights.shape) # shape: (vocab_size, embedding_dim)"
   ]
  },
  {
   "cell_type": "code",
   "execution_count": null,
   "metadata": {},
   "outputs": [],
   "source": [
    "'''\n",
    "import io\n",
    "\n",
    "out_v = io.open('vecs.tsv', 'w', encoding='utf-8')\n",
    "out_m = io.open('meta.tsv', 'w', encoding='utf-8')\n",
    "for word_num in range(1, vocab_size):\n",
    "  word = reverse_word_index[word_num]\n",
    "  embeddings = weights[word_num]\n",
    "  out_m.write(word + \"\\n\")\n",
    "  out_v.write('\\t'.join([str(x) for x in embeddings]) + \"\\n\")\n",
    "out_v.close()\n",
    "out_m.close()\n",
    "'''"
   ]
  },
  {
   "cell_type": "code",
   "execution_count": null,
   "metadata": {},
   "outputs": [],
   "source": [
    "# Sort of working!\n",
    "sentence = [\"stocks rise rapidly for Tesla\", \"Apple factory burns to the ground\"]\n",
    "sequences = tokenizer.texts_to_sequences(sentence)\n",
    "padded = pad_sequences(sequences, maxlen=max_length, \n",
    "                       padding=padding_type, \n",
    "                       truncating=trunc_type)\n",
    "print(model.predict(padded))"
   ]
  },
  {
   "cell_type": "markdown",
   "metadata": {},
   "source": [
    "# Further Work:"
   ]
  },
  {
   "cell_type": "markdown",
   "metadata": {},
   "source": [
    "In the future, I'd like to complete the following analysis:\n",
    "- A web application that collects and analyzes headlines from various financial news sources.\n",
    "- Other neural network architecture types.\n",
    "- New types of sentiment analysis, such as breaking news vs an opinion piece on an older issue."
   ]
  },
  {
   "cell_type": "markdown",
   "metadata": {},
   "source": [
    "# Conclusion:"
   ]
  },
  {
   "cell_type": "code",
   "execution_count": null,
   "metadata": {},
   "outputs": [],
   "source": []
  }
 ],
 "metadata": {
  "kernelspec": {
   "display_name": "Python 3",
   "language": "python",
   "name": "python3"
  },
  "language_info": {
   "codemirror_mode": {
    "name": "ipython",
    "version": 3
   },
   "file_extension": ".py",
   "mimetype": "text/x-python",
   "name": "python",
   "nbconvert_exporter": "python",
   "pygments_lexer": "ipython3",
   "version": "3.6.9"
  },
  "toc": {
   "base_numbering": 1,
   "nav_menu": {},
   "number_sections": true,
   "sideBar": true,
   "skip_h1_title": false,
   "title_cell": "Table of Contents",
   "title_sidebar": "Contents",
   "toc_cell": false,
   "toc_position": {},
   "toc_section_display": true,
   "toc_window_display": false
  }
 },
 "nbformat": 4,
 "nbformat_minor": 2
}
