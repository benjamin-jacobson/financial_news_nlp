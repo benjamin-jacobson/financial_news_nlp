{
 "cells": [
  {
   "cell_type": "code",
   "execution_count": 2,
   "metadata": {},
   "outputs": [
    {
     "name": "stderr",
     "output_type": "stream",
     "text": [
      "Using TensorFlow backend.\n"
     ]
    }
   ],
   "source": [
    "import numpy as np\n",
    "import pandas as pd\n",
    "\n",
    "%matplotlib inline\n",
    "import matplotlib.pyplot as plt\n",
    "from string import punctuation\n",
    "from nltk.corpus import stopwords, wordnet\n",
    "from nltk import pos_tag\n",
    "from nltk.stem import WordNetLemmatizer\n",
    "from nltk.tokenize import word_tokenize,sent_tokenize\n",
    "from wordcloud import WordCloud\n",
    "from sklearn.preprocessing import OneHotEncoder\n",
    "from sklearn.feature_extraction.text import CountVectorizer\n",
    "from sklearn.metrics import classification_report,confusion_matrix,accuracy_score\n",
    "from sklearn.model_selection import train_test_split\n",
    "from sklearn.linear_model import LogisticRegression,SGDClassifier, LinearRegression\n",
    "from sklearn.naive_bayes import MultinomialNB\n",
    "from sklearn.svm import SVC\n",
    "from keras.layers import Dense, Conv1D, MaxPool1D, Flatten, Dropout\n",
    "from keras.models import Sequential\n",
    "from keras.utils import to_categorical"
   ]
  },
  {
   "cell_type": "code",
   "execution_count": 3,
   "metadata": {},
   "outputs": [
    {
     "data": {
      "text/html": [
       "<div>\n",
       "<style scoped>\n",
       "    .dataframe tbody tr th:only-of-type {\n",
       "        vertical-align: middle;\n",
       "    }\n",
       "\n",
       "    .dataframe tbody tr th {\n",
       "        vertical-align: top;\n",
       "    }\n",
       "\n",
       "    .dataframe thead th {\n",
       "        text-align: right;\n",
       "    }\n",
       "</style>\n",
       "<table border=\"1\" class=\"dataframe\">\n",
       "  <thead>\n",
       "    <tr style=\"text-align: right;\">\n",
       "      <th></th>\n",
       "      <th>sentiment</th>\n",
       "      <th>text</th>\n",
       "    </tr>\n",
       "  </thead>\n",
       "  <tbody>\n",
       "    <tr>\n",
       "      <td>0</td>\n",
       "      <td>neutral</td>\n",
       "      <td>According to Gran , the company has no plans t...</td>\n",
       "    </tr>\n",
       "    <tr>\n",
       "      <td>1</td>\n",
       "      <td>neutral</td>\n",
       "      <td>Technopolis plans to develop in stages an area...</td>\n",
       "    </tr>\n",
       "    <tr>\n",
       "      <td>2</td>\n",
       "      <td>negative</td>\n",
       "      <td>The international electronic industry company ...</td>\n",
       "    </tr>\n",
       "    <tr>\n",
       "      <td>3</td>\n",
       "      <td>positive</td>\n",
       "      <td>With the new production plant the company woul...</td>\n",
       "    </tr>\n",
       "    <tr>\n",
       "      <td>4</td>\n",
       "      <td>positive</td>\n",
       "      <td>According to the company 's updated strategy f...</td>\n",
       "    </tr>\n",
       "  </tbody>\n",
       "</table>\n",
       "</div>"
      ],
      "text/plain": [
       "  sentiment                                               text\n",
       "0   neutral  According to Gran , the company has no plans t...\n",
       "1   neutral  Technopolis plans to develop in stages an area...\n",
       "2  negative  The international electronic industry company ...\n",
       "3  positive  With the new production plant the company woul...\n",
       "4  positive  According to the company 's updated strategy f..."
      ]
     },
     "execution_count": 3,
     "metadata": {},
     "output_type": "execute_result"
    }
   ],
   "source": [
    "data = pd.read_csv('all-data.csv', encoding='latin-1', names=['sentiment', 'text'])\n",
    "data.head()"
   ]
  },
  {
   "cell_type": "code",
   "execution_count": 5,
   "metadata": {},
   "outputs": [],
   "source": [
    "# making list stopwords for removing stopwords from our text \n",
    "stop = set(stopwords.words('english'))\n",
    "stop.update(punctuation)"
   ]
  },
  {
   "cell_type": "code",
   "execution_count": 6,
   "metadata": {},
   "outputs": [],
   "source": [
    "def get_simple_pos(tag):\n",
    "    if tag.startswith('J'):\n",
    "        return wordnet.ADJ\n",
    "    elif tag.startswith('V'):\n",
    "        return wordnet.VERB\n",
    "    elif tag.startswith('N'):\n",
    "        return wordnet.NOUN\n",
    "    elif tag.startswith('R'):\n",
    "        return wordnet.ADV\n",
    "    else:\n",
    "        return wordnet.NOUN"
   ]
  },
  {
   "cell_type": "code",
   "execution_count": 7,
   "metadata": {},
   "outputs": [],
   "source": [
    "lemmatizer = WordNetLemmatizer()\n",
    "def clean_review(text):\n",
    "    clean_text = []\n",
    "    for w in word_tokenize(text):\n",
    "        if w.lower() not in stop:\n",
    "            pos = pos_tag([w])\n",
    "            new_w = lemmatizer.lemmatize(w, pos=get_simple_pos(pos[0][1]))\n",
    "            clean_text.append(new_w)\n",
    "    return clean_text\n",
    "\n",
    "def join_text(text):\n",
    "    return \" \".join(text)"
   ]
  },
  {
   "cell_type": "code",
   "execution_count": 8,
   "metadata": {},
   "outputs": [],
   "source": [
    "data.text = data.text.apply(clean_review)\n",
    "data.text = data.text.apply(join_text)"
   ]
  },
  {
   "cell_type": "code",
   "execution_count": 9,
   "metadata": {},
   "outputs": [
    {
     "data": {
      "text/html": [
       "<div>\n",
       "<style scoped>\n",
       "    .dataframe tbody tr th:only-of-type {\n",
       "        vertical-align: middle;\n",
       "    }\n",
       "\n",
       "    .dataframe tbody tr th {\n",
       "        vertical-align: top;\n",
       "    }\n",
       "\n",
       "    .dataframe thead th {\n",
       "        text-align: right;\n",
       "    }\n",
       "</style>\n",
       "<table border=\"1\" class=\"dataframe\">\n",
       "  <thead>\n",
       "    <tr style=\"text-align: right;\">\n",
       "      <th></th>\n",
       "      <th>sentiment</th>\n",
       "      <th>text</th>\n",
       "    </tr>\n",
       "  </thead>\n",
       "  <tbody>\n",
       "    <tr>\n",
       "      <td>0</td>\n",
       "      <td>neutral</td>\n",
       "      <td>According Gran company plan move production Ru...</td>\n",
       "    </tr>\n",
       "    <tr>\n",
       "      <td>1</td>\n",
       "      <td>neutral</td>\n",
       "      <td>Technopolis plan develop stage area less 100,0...</td>\n",
       "    </tr>\n",
       "    <tr>\n",
       "      <td>2</td>\n",
       "      <td>negative</td>\n",
       "      <td>international electronic industry company Elco...</td>\n",
       "    </tr>\n",
       "    <tr>\n",
       "      <td>3</td>\n",
       "      <td>positive</td>\n",
       "      <td>new production plant company would increase ca...</td>\n",
       "    </tr>\n",
       "    <tr>\n",
       "      <td>4</td>\n",
       "      <td>positive</td>\n",
       "      <td>According company 's update strategy year 2009...</td>\n",
       "    </tr>\n",
       "  </tbody>\n",
       "</table>\n",
       "</div>"
      ],
      "text/plain": [
       "  sentiment                                               text\n",
       "0   neutral  According Gran company plan move production Ru...\n",
       "1   neutral  Technopolis plan develop stage area less 100,0...\n",
       "2  negative  international electronic industry company Elco...\n",
       "3  positive  new production plant company would increase ca...\n",
       "4  positive  According company 's update strategy year 2009..."
      ]
     },
     "execution_count": 9,
     "metadata": {},
     "output_type": "execute_result"
    }
   ],
   "source": [
    "data.head()"
   ]
  },
  {
   "cell_type": "code",
   "execution_count": 10,
   "metadata": {},
   "outputs": [],
   "source": [
    "# splitting data.\n",
    "x_train,x_test,y_train,y_test = train_test_split(data.text,data.sentiment,test_size = 0.2 , random_state = 0)"
   ]
  },
  {
   "cell_type": "code",
   "execution_count": 11,
   "metadata": {},
   "outputs": [
    {
     "data": {
      "text/plain": [
       "((3876,), (3876,), (970,), (970,))"
      ]
     },
     "execution_count": 11,
     "metadata": {},
     "output_type": "execute_result"
    }
   ],
   "source": [
    "x_train.shape, y_train.shape, x_test.shape, y_test.shape"
   ]
  },
  {
   "cell_type": "markdown",
   "metadata": {},
   "source": [
    "## Vectorizer:"
   ]
  },
  {
   "cell_type": "code",
   "execution_count": 12,
   "metadata": {},
   "outputs": [],
   "source": [
    "count_vec = CountVectorizer(max_features=4000, ngram_range=(1,2), max_df=0.9, min_df=0)"
   ]
  },
  {
   "cell_type": "code",
   "execution_count": 13,
   "metadata": {},
   "outputs": [
    {
     "data": {
      "text/plain": [
       "((3876, 4000), (970, 4000))"
      ]
     },
     "execution_count": 13,
     "metadata": {},
     "output_type": "execute_result"
    }
   ],
   "source": [
    "x_train_features = count_vec.fit_transform(x_train).todense()\n",
    "x_test_features = count_vec.transform(x_test).todense()\n",
    "x_train_features.shape, x_test_features.shape"
   ]
  },
  {
   "cell_type": "code",
   "execution_count": 15,
   "metadata": {},
   "outputs": [
    {
     "name": "stdout",
     "output_type": "stream",
     "text": [
      "71.1340206185567\n"
     ]
    }
   ],
   "source": [
    "nb_clf = MultinomialNB()\n",
    "nb_clf.fit(x_train_features, y_train)\n",
    "y_pred = nb_clf.predict(x_test_features)\n",
    "print(accuracy_score(y_test,y_pred)*100)"
   ]
  },
  {
   "cell_type": "code",
   "execution_count": 16,
   "metadata": {},
   "outputs": [
    {
     "name": "stdout",
     "output_type": "stream",
     "text": [
      "              precision    recall  f1-score   support\n",
      "\n",
      "    negative       0.52      0.54      0.53       128\n",
      "     neutral       0.76      0.87      0.81       575\n",
      "    positive       0.66      0.46      0.54       267\n",
      "\n",
      "    accuracy                           0.71       970\n",
      "   macro avg       0.65      0.62      0.63       970\n",
      "weighted avg       0.70      0.71      0.70       970\n",
      "\n"
     ]
    }
   ],
   "source": [
    "print(classification_report(y_test, y_pred))"
   ]
  },
  {
   "cell_type": "code",
   "execution_count": 17,
   "metadata": {},
   "outputs": [
    {
     "data": {
      "text/plain": [
       "((3876, 3), (970, 3))"
      ]
     },
     "execution_count": 17,
     "metadata": {},
     "output_type": "execute_result"
    }
   ],
   "source": [
    "y_train[y_train=='positive']=2\n",
    "y_train[y_train=='neutral']=1\n",
    "y_train[y_train=='negative']=0\n",
    "y_test[y_test=='positive']=2\n",
    "y_test[y_test=='neutral']=1\n",
    "y_test[y_test=='negative']=0\n",
    "\n",
    "encoder = OneHotEncoder()\n",
    "y_train = to_categorical(y_train)\n",
    "y_test = to_categorical(y_test)\n",
    "y_train.shape, y_test.shape"
   ]
  },
  {
   "cell_type": "markdown",
   "metadata": {},
   "source": [
    "# Neural Network - Baseline:"
   ]
  },
  {
   "cell_type": "code",
   "execution_count": 44,
   "metadata": {},
   "outputs": [],
   "source": [
    "def plot_graphs(history, string):\n",
    "  plt.plot(history.history[string])\n",
    "  plt.plot(history.history['val_'+string])\n",
    "  plt.xlabel(\"Epochs\")\n",
    "  plt.ylabel(string)\n",
    "  plt.legend([string, 'val_'+string])\n",
    "  plt.show()"
   ]
  },
  {
   "cell_type": "code",
   "execution_count": 45,
   "metadata": {},
   "outputs": [],
   "source": [
    "optimizer = 'sgd'\n",
    "model = Sequential()\n",
    "    \n",
    "model.add(Dense(units=512, activation='relu', input_dim=x_train_features.shape[1]))\n",
    "model.add(Dropout(0.2))\n",
    "model.add(Dense(units=256, activation='relu'))\n",
    "model.add(Dropout(0.2))\n",
    "model.add(Dense(units=3, activation='softmax'))\n",
    "model.compile(loss='categorical_crossentropy', optimizer=optimizer, metrics=['accuracy'])"
   ]
  },
  {
   "cell_type": "code",
   "execution_count": 46,
   "metadata": {
    "scrolled": true
   },
   "outputs": [
    {
     "name": "stdout",
     "output_type": "stream",
     "text": [
      "Train on 3876 samples, validate on 970 samples\n",
      "Epoch 1/100\n",
      "3876/3876 [==============================] - 3s 680us/step - loss: 1.0061 - acc: 0.5759 - val_loss: 0.9540 - val_acc: 0.5928\n",
      "Epoch 2/100\n",
      "3876/3876 [==============================] - 2s 587us/step - loss: 0.9282 - acc: 0.5947 - val_loss: 0.9186 - val_acc: 0.5928\n",
      "Epoch 3/100\n",
      "3876/3876 [==============================] - 2s 583us/step - loss: 0.8993 - acc: 0.5965 - val_loss: 0.8986 - val_acc: 0.5959\n",
      "Epoch 4/100\n",
      "3876/3876 [==============================] - 2s 584us/step - loss: 0.8821 - acc: 0.6032 - val_loss: 0.8812 - val_acc: 0.6113\n",
      "Epoch 5/100\n",
      "3876/3876 [==============================] - 2s 587us/step - loss: 0.8611 - acc: 0.6200 - val_loss: 0.8636 - val_acc: 0.6309\n",
      "Epoch 6/100\n",
      "3876/3876 [==============================] - 2s 588us/step - loss: 0.8447 - acc: 0.6282 - val_loss: 0.8465 - val_acc: 0.6433\n",
      "Epoch 7/100\n",
      "3876/3876 [==============================] - 2s 589us/step - loss: 0.8271 - acc: 0.6396 - val_loss: 0.8304 - val_acc: 0.6505\n",
      "Epoch 8/100\n",
      "3876/3876 [==============================] - 2s 620us/step - loss: 0.8089 - acc: 0.6473 - val_loss: 0.8164 - val_acc: 0.6505\n",
      "Epoch 9/100\n",
      "3876/3876 [==============================] - 2s 589us/step - loss: 0.7907 - acc: 0.6525 - val_loss: 0.8021 - val_acc: 0.6557\n",
      "Epoch 10/100\n",
      "3876/3876 [==============================] - 2s 583us/step - loss: 0.7714 - acc: 0.6654 - val_loss: 0.7890 - val_acc: 0.6567\n",
      "Epoch 11/100\n",
      "3876/3876 [==============================] - 2s 586us/step - loss: 0.7576 - acc: 0.6703 - val_loss: 0.7766 - val_acc: 0.6660\n",
      "Epoch 12/100\n",
      "3876/3876 [==============================] - 2s 600us/step - loss: 0.7340 - acc: 0.6832 - val_loss: 0.7638 - val_acc: 0.6753\n",
      "Epoch 13/100\n",
      "3876/3876 [==============================] - 2s 586us/step - loss: 0.7168 - acc: 0.6938 - val_loss: 0.7521 - val_acc: 0.6845\n",
      "Epoch 14/100\n",
      "3876/3876 [==============================] - 2s 591us/step - loss: 0.7032 - acc: 0.7012 - val_loss: 0.7415 - val_acc: 0.6866\n",
      "Epoch 15/100\n",
      "3876/3876 [==============================] - 3s 657us/step - loss: 0.6801 - acc: 0.7110 - val_loss: 0.7289 - val_acc: 0.6959\n",
      "Epoch 16/100\n",
      "3876/3876 [==============================] - 2s 570us/step - loss: 0.6618 - acc: 0.7221 - val_loss: 0.7163 - val_acc: 0.6959\n",
      "Epoch 17/100\n",
      "3876/3876 [==============================] - 2s 596us/step - loss: 0.6435 - acc: 0.7322 - val_loss: 0.7098 - val_acc: 0.6969\n",
      "Epoch 18/100\n",
      "3876/3876 [==============================] - 2s 635us/step - loss: 0.6168 - acc: 0.7448 - val_loss: 0.6965 - val_acc: 0.7165\n",
      "Epoch 19/100\n",
      "3876/3876 [==============================] - 2s 589us/step - loss: 0.5966 - acc: 0.7534 - val_loss: 0.6855 - val_acc: 0.7155\n",
      "Epoch 20/100\n",
      "3876/3876 [==============================] - 2s 628us/step - loss: 0.5742 - acc: 0.7639 - val_loss: 0.6771 - val_acc: 0.7278\n",
      "Epoch 21/100\n",
      "3876/3876 [==============================] - 2s 642us/step - loss: 0.5542 - acc: 0.7761 - val_loss: 0.6668 - val_acc: 0.7237\n",
      "Epoch 22/100\n",
      "3876/3876 [==============================] - 2s 622us/step - loss: 0.5321 - acc: 0.7908 - val_loss: 0.6667 - val_acc: 0.7268\n",
      "Epoch 23/100\n",
      "3876/3876 [==============================] - 2s 577us/step - loss: 0.5111 - acc: 0.8001 - val_loss: 0.6585 - val_acc: 0.7289\n",
      "Epoch 24/100\n",
      "3876/3876 [==============================] - 2s 571us/step - loss: 0.4875 - acc: 0.8135 - val_loss: 0.6482 - val_acc: 0.7309\n",
      "Epoch 25/100\n",
      "3876/3876 [==============================] - 2s 584us/step - loss: 0.4724 - acc: 0.8235 - val_loss: 0.6410 - val_acc: 0.7351\n",
      "Epoch 26/100\n",
      "3876/3876 [==============================] - 2s 576us/step - loss: 0.4527 - acc: 0.8372 - val_loss: 0.6343 - val_acc: 0.7392\n",
      "Epoch 27/100\n",
      "3876/3876 [==============================] - 2s 567us/step - loss: 0.4283 - acc: 0.8509 - val_loss: 0.6363 - val_acc: 0.7443\n",
      "Epoch 28/100\n",
      "3876/3876 [==============================] - 2s 577us/step - loss: 0.4073 - acc: 0.8537 - val_loss: 0.6264 - val_acc: 0.7454\n",
      "Epoch 29/100\n",
      "3876/3876 [==============================] - 2s 582us/step - loss: 0.3913 - acc: 0.8617 - val_loss: 0.6254 - val_acc: 0.7454\n",
      "Epoch 30/100\n",
      "3876/3876 [==============================] - 2s 571us/step - loss: 0.3708 - acc: 0.8738 - val_loss: 0.6220 - val_acc: 0.7433\n",
      "Epoch 31/100\n",
      "3876/3876 [==============================] - 2s 568us/step - loss: 0.3603 - acc: 0.8772 - val_loss: 0.6224 - val_acc: 0.7495\n",
      "Epoch 32/100\n",
      "3876/3876 [==============================] - 2s 573us/step - loss: 0.3375 - acc: 0.8891 - val_loss: 0.6196 - val_acc: 0.7474\n",
      "Epoch 33/100\n",
      "3876/3876 [==============================] - 2s 594us/step - loss: 0.3215 - acc: 0.8950 - val_loss: 0.6240 - val_acc: 0.7505\n",
      "Epoch 34/100\n",
      "3876/3876 [==============================] - 2s 585us/step - loss: 0.3070 - acc: 0.9022 - val_loss: 0.6195 - val_acc: 0.7515\n",
      "Epoch 35/100\n",
      "3876/3876 [==============================] - 2s 572us/step - loss: 0.2934 - acc: 0.9079 - val_loss: 0.6215 - val_acc: 0.7557\n",
      "Epoch 36/100\n",
      "3876/3876 [==============================] - 2s 599us/step - loss: 0.2786 - acc: 0.9159 - val_loss: 0.6283 - val_acc: 0.7546\n",
      "Epoch 37/100\n",
      "3876/3876 [==============================] - 2s 588us/step - loss: 0.2663 - acc: 0.9105 - val_loss: 0.6244 - val_acc: 0.7588\n",
      "Epoch 38/100\n",
      "3876/3876 [==============================] - 2s 575us/step - loss: 0.2491 - acc: 0.9260 - val_loss: 0.6263 - val_acc: 0.7526\n",
      "Epoch 39/100\n",
      "3876/3876 [==============================] - 2s 578us/step - loss: 0.2420 - acc: 0.9260 - val_loss: 0.6291 - val_acc: 0.7598\n",
      "Epoch 40/100\n",
      "3876/3876 [==============================] - 2s 575us/step - loss: 0.2273 - acc: 0.9340 - val_loss: 0.6385 - val_acc: 0.7639\n",
      "Epoch 41/100\n",
      "3876/3876 [==============================] - 2s 642us/step - loss: 0.2134 - acc: 0.9432 - val_loss: 0.6365 - val_acc: 0.7557\n",
      "Epoch 42/100\n",
      "3876/3876 [==============================] - 2s 620us/step - loss: 0.2079 - acc: 0.9456 - val_loss: 0.6374 - val_acc: 0.7629\n",
      "Epoch 43/100\n",
      "3876/3876 [==============================] - 2s 594us/step - loss: 0.1957 - acc: 0.9458 - val_loss: 0.6482 - val_acc: 0.7670\n",
      "Epoch 44/100\n",
      "3876/3876 [==============================] - 2s 598us/step - loss: 0.1874 - acc: 0.9541 - val_loss: 0.6480 - val_acc: 0.7608\n",
      "Epoch 45/100\n",
      "3876/3876 [==============================] - 2s 600us/step - loss: 0.1747 - acc: 0.9515 - val_loss: 0.6527 - val_acc: 0.7649\n",
      "Epoch 46/100\n",
      "3876/3876 [==============================] - 2s 600us/step - loss: 0.1693 - acc: 0.9564 - val_loss: 0.6541 - val_acc: 0.7639\n",
      "Epoch 47/100\n",
      "3876/3876 [==============================] - 2s 606us/step - loss: 0.1568 - acc: 0.9613 - val_loss: 0.6592 - val_acc: 0.7577\n",
      "Epoch 48/100\n",
      "3876/3876 [==============================] - 2s 616us/step - loss: 0.1513 - acc: 0.9621 - val_loss: 0.6683 - val_acc: 0.7608\n",
      "Epoch 49/100\n",
      "3876/3876 [==============================] - 3s 648us/step - loss: 0.1446 - acc: 0.9631 - val_loss: 0.6713 - val_acc: 0.7588\n",
      "Epoch 50/100\n",
      "3876/3876 [==============================] - 2s 631us/step - loss: 0.1405 - acc: 0.9654 - val_loss: 0.6770 - val_acc: 0.7588\n",
      "Epoch 51/100\n",
      "3876/3876 [==============================] - 3s 679us/step - loss: 0.1332 - acc: 0.9716 - val_loss: 0.6836 - val_acc: 0.7567\n",
      "Epoch 52/100\n",
      "3876/3876 [==============================] - 2s 587us/step - loss: 0.1275 - acc: 0.9690 - val_loss: 0.6860 - val_acc: 0.7474\n",
      "Epoch 53/100\n",
      "3876/3876 [==============================] - 2s 635us/step - loss: 0.1194 - acc: 0.9724 - val_loss: 0.6977 - val_acc: 0.7588\n",
      "Epoch 54/100\n",
      "3876/3876 [==============================] - 3s 675us/step - loss: 0.1135 - acc: 0.9757 - val_loss: 0.7046 - val_acc: 0.7588\n",
      "Epoch 55/100\n",
      "3876/3876 [==============================] - 3s 672us/step - loss: 0.1066 - acc: 0.9773 - val_loss: 0.7143 - val_acc: 0.7608\n",
      "Epoch 56/100\n",
      "3876/3876 [==============================] - 3s 677us/step - loss: 0.1022 - acc: 0.9788 - val_loss: 0.7131 - val_acc: 0.7557\n",
      "Epoch 57/100\n",
      "3876/3876 [==============================] - 2s 630us/step - loss: 0.0993 - acc: 0.9809 - val_loss: 0.7290 - val_acc: 0.7608\n",
      "Epoch 58/100\n",
      "3876/3876 [==============================] - 2s 622us/step - loss: 0.0940 - acc: 0.9825 - val_loss: 0.7297 - val_acc: 0.7588\n",
      "Epoch 59/100\n",
      "3876/3876 [==============================] - 2s 614us/step - loss: 0.0924 - acc: 0.9819 - val_loss: 0.7321 - val_acc: 0.7577\n",
      "Epoch 60/100\n"
     ]
    },
    {
     "name": "stdout",
     "output_type": "stream",
     "text": [
      "3876/3876 [==============================] - 2s 586us/step - loss: 0.0890 - acc: 0.9858 - val_loss: 0.7329 - val_acc: 0.7557\n",
      "Epoch 61/100\n",
      "3876/3876 [==============================] - 2s 628us/step - loss: 0.0855 - acc: 0.9856 - val_loss: 0.7659 - val_acc: 0.7639\n",
      "Epoch 62/100\n",
      "3876/3876 [==============================] - 2s 620us/step - loss: 0.0799 - acc: 0.9868 - val_loss: 0.7547 - val_acc: 0.7660\n",
      "Epoch 63/100\n",
      "3876/3876 [==============================] - 2s 621us/step - loss: 0.0745 - acc: 0.9868 - val_loss: 0.7544 - val_acc: 0.7567\n",
      "Epoch 64/100\n",
      "3876/3876 [==============================] - 2s 644us/step - loss: 0.0718 - acc: 0.9886 - val_loss: 0.7602 - val_acc: 0.7577\n",
      "Epoch 65/100\n",
      "3876/3876 [==============================] - 3s 689us/step - loss: 0.0725 - acc: 0.9894 - val_loss: 0.7781 - val_acc: 0.7649\n",
      "Epoch 66/100\n",
      "3876/3876 [==============================] - 2s 641us/step - loss: 0.0686 - acc: 0.9874 - val_loss: 0.7744 - val_acc: 0.7619\n",
      "Epoch 67/100\n",
      "3876/3876 [==============================] - 2s 622us/step - loss: 0.0671 - acc: 0.9907 - val_loss: 0.7757 - val_acc: 0.7567\n",
      "Epoch 68/100\n",
      "3876/3876 [==============================] - 2s 636us/step - loss: 0.0612 - acc: 0.9925 - val_loss: 0.7828 - val_acc: 0.7619\n",
      "Epoch 69/100\n",
      "3876/3876 [==============================] - 3s 660us/step - loss: 0.0641 - acc: 0.9902 - val_loss: 0.7851 - val_acc: 0.7577\n",
      "Epoch 70/100\n",
      "3876/3876 [==============================] - 3s 648us/step - loss: 0.0586 - acc: 0.9923 - val_loss: 0.7930 - val_acc: 0.7588\n",
      "Epoch 71/100\n",
      "3876/3876 [==============================] - 3s 651us/step - loss: 0.0579 - acc: 0.9930 - val_loss: 0.7993 - val_acc: 0.7598\n",
      "Epoch 72/100\n",
      "3876/3876 [==============================] - 3s 663us/step - loss: 0.0531 - acc: 0.9938 - val_loss: 0.8122 - val_acc: 0.7619\n",
      "Epoch 73/100\n",
      "3876/3876 [==============================] - 3s 659us/step - loss: 0.0520 - acc: 0.9928 - val_loss: 0.8297 - val_acc: 0.7660\n",
      "Epoch 74/100\n",
      "3876/3876 [==============================] - 3s 650us/step - loss: 0.0499 - acc: 0.9938 - val_loss: 0.8202 - val_acc: 0.7629\n",
      "Epoch 75/100\n",
      "3876/3876 [==============================] - 3s 661us/step - loss: 0.0489 - acc: 0.9936 - val_loss: 0.8151 - val_acc: 0.7536\n",
      "Epoch 76/100\n",
      "3876/3876 [==============================] - 3s 693us/step - loss: 0.0475 - acc: 0.9941 - val_loss: 0.8341 - val_acc: 0.7619\n",
      "Epoch 77/100\n",
      "3876/3876 [==============================] - 3s 741us/step - loss: 0.0475 - acc: 0.9938 - val_loss: 0.8299 - val_acc: 0.7598\n",
      "Epoch 78/100\n",
      "3876/3876 [==============================] - 3s 737us/step - loss: 0.0430 - acc: 0.9956 - val_loss: 0.8334 - val_acc: 0.7577\n",
      "Epoch 79/100\n",
      "3876/3876 [==============================] - 3s 696us/step - loss: 0.0439 - acc: 0.9954 - val_loss: 0.8370 - val_acc: 0.7577\n",
      "Epoch 80/100\n",
      "3876/3876 [==============================] - 3s 649us/step - loss: 0.0423 - acc: 0.9959 - val_loss: 0.8467 - val_acc: 0.7588\n",
      "Epoch 81/100\n",
      "3876/3876 [==============================] - 2s 635us/step - loss: 0.0391 - acc: 0.9956 - val_loss: 0.8485 - val_acc: 0.7588\n",
      "Epoch 82/100\n",
      "3876/3876 [==============================] - 3s 649us/step - loss: 0.0408 - acc: 0.9948 - val_loss: 0.8568 - val_acc: 0.7546\n",
      "Epoch 83/100\n",
      "3876/3876 [==============================] - 2s 627us/step - loss: 0.0379 - acc: 0.9959 - val_loss: 0.8557 - val_acc: 0.7557\n",
      "Epoch 84/100\n",
      "3876/3876 [==============================] - 3s 713us/step - loss: 0.0392 - acc: 0.9959 - val_loss: 0.8672 - val_acc: 0.7577\n",
      "Epoch 85/100\n",
      "3876/3876 [==============================] - 3s 783us/step - loss: 0.0365 - acc: 0.9964 - val_loss: 0.8676 - val_acc: 0.7526\n",
      "Epoch 86/100\n",
      "3876/3876 [==============================] - 3s 731us/step - loss: 0.0371 - acc: 0.9956 - val_loss: 0.8723 - val_acc: 0.7526\n",
      "Epoch 87/100\n",
      "3876/3876 [==============================] - 3s 788us/step - loss: 0.0357 - acc: 0.9964 - val_loss: 0.8755 - val_acc: 0.7526\n",
      "Epoch 88/100\n",
      "3876/3876 [==============================] - 3s 853us/step - loss: 0.0325 - acc: 0.9969 - val_loss: 0.8827 - val_acc: 0.7546\n",
      "Epoch 89/100\n",
      "3876/3876 [==============================] - 3s 777us/step - loss: 0.0320 - acc: 0.9969 - val_loss: 0.8872 - val_acc: 0.7557\n",
      "Epoch 90/100\n",
      "3876/3876 [==============================] - 3s 774us/step - loss: 0.0305 - acc: 0.9974 - val_loss: 0.8943 - val_acc: 0.7588\n",
      "Epoch 91/100\n",
      "3876/3876 [==============================] - 3s 705us/step - loss: 0.0307 - acc: 0.9964 - val_loss: 0.8982 - val_acc: 0.7546\n",
      "Epoch 92/100\n",
      "3876/3876 [==============================] - 3s 722us/step - loss: 0.0294 - acc: 0.9964 - val_loss: 0.9199 - val_acc: 0.7588\n",
      "Epoch 93/100\n",
      "3876/3876 [==============================] - 3s 713us/step - loss: 0.0299 - acc: 0.9969 - val_loss: 0.9033 - val_acc: 0.7526\n",
      "Epoch 94/100\n",
      "3876/3876 [==============================] - 3s 700us/step - loss: 0.0302 - acc: 0.9977 - val_loss: 0.9074 - val_acc: 0.7557\n",
      "Epoch 95/100\n",
      "3876/3876 [==============================] - 3s 670us/step - loss: 0.0276 - acc: 0.9969 - val_loss: 0.9023 - val_acc: 0.7536\n",
      "Epoch 96/100\n",
      "3876/3876 [==============================] - 3s 667us/step - loss: 0.0269 - acc: 0.9972 - val_loss: 0.9145 - val_acc: 0.7588\n",
      "Epoch 97/100\n",
      "3876/3876 [==============================] - 3s 650us/step - loss: 0.0263 - acc: 0.9972 - val_loss: 0.9285 - val_acc: 0.7598\n",
      "Epoch 98/100\n",
      "3876/3876 [==============================] - 3s 668us/step - loss: 0.0281 - acc: 0.9969 - val_loss: 0.9159 - val_acc: 0.7546\n",
      "Epoch 99/100\n",
      "3876/3876 [==============================] - 3s 669us/step - loss: 0.0251 - acc: 0.9985 - val_loss: 0.9258 - val_acc: 0.7557\n",
      "Epoch 100/100\n",
      "3876/3876 [==============================] - 3s 646us/step - loss: 0.0242 - acc: 0.9985 - val_loss: 0.9315 - val_acc: 0.7598\n",
      "970/970 [==============================] - 0s 147us/step\n",
      "Accuracy with sgd optimizer is : 75.97938143100936\n"
     ]
    }
   ],
   "source": [
    "history = model.fit(x_train_features, y_train, \n",
    "                    validation_data=(x_test_features, y_test), \n",
    "                    epochs=100, \n",
    "                    batch_size = 32, verbose=1)\n",
    "    \n",
    "print('Accuracy with',optimizer,'optimizer is :',model.evaluate(x_test_features, y_test)[1]*100)"
   ]
  },
  {
   "cell_type": "code",
   "execution_count": 47,
   "metadata": {},
   "outputs": [
    {
     "data": {
      "image/png": "[encoded data removed]",
      "text/plain": [
       "<Figure size 432x288 with 1 Axes>"
      ]
     },
     "metadata": {
      "needs_background": "light"
     },
     "output_type": "display_data"
    },
    {
     "data": {
      "image/png": "[encoded data removed]",
      "text/plain": [
       "<Figure size 432x288 with 1 Axes>"
      ]
     },
     "metadata": {
      "needs_background": "light"
     },
     "output_type": "display_data"
    }
   ],
   "source": [
    "plot_graphs(history, \"acc\")\n",
    "plot_graphs(history, \"loss\")"
   ]
  },
  {
   "cell_type": "code",
   "execution_count": null,
   "metadata": {},
   "outputs": [],
   "source": []
  }
 ],
 "metadata": {
  "kernelspec": {
   "display_name": "Python 3",
   "language": "python",
   "name": "python3"
  },
  "language_info": {
   "codemirror_mode": {
    "name": "ipython",
    "version": 3
   },
   "file_extension": ".py",
   "mimetype": "text/x-python",
   "name": "python",
   "nbconvert_exporter": "python",
   "pygments_lexer": "ipython3",
   "version": "3.6.9"
  },
  "toc": {
   "base_numbering": 1,
   "nav_menu": {},
   "number_sections": true,
   "sideBar": true,
   "skip_h1_title": false,
   "title_cell": "Table of Contents",
   "title_sidebar": "Contents",
   "toc_cell": false,
   "toc_position": {},
   "toc_section_display": true,
   "toc_window_display": false
  }
 },
 "nbformat": 4,
 "nbformat_minor": 2
}
