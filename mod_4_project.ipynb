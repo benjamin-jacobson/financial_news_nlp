{
 "cells": [
  {
   "cell_type": "markdown",
   "metadata": {},
   "source": [
    "__Student info:__"
   ]
  },
  {
   "cell_type": "markdown",
   "metadata": {},
   "source": [
    "- Student name: Thomas Brown\n",
    "- Student pace: Full Time\n",
    "- Scheduled project review date/time: TBD\n",
    "- Instructor name: Abhineet Kulkarni\n",
    "- Blog post URL: TBD"
   ]
  },
  {
   "cell_type": "markdown",
   "metadata": {},
   "source": [
    "__Use Case:__<br><br>\n",
    "The purpose of this project is to start building a neural network model that can determine the sentiment of financial news headlines.  The users of this model would be investment firms who want to keep track of the market sentiment of a set of various products, companies, or industries.  <br><br>\n",
    "With proper web scraping and feeding of new headlines, a firm would be able to keep track of various topics to make better informed investing decisions.  For example, one could feasibly keep track of terms that are rising rapidly in terms of positive sentiment in order to invest in them.<br><br>\n",
    "The data is collected from Kaggle through this [link](https://www.kaggle.com/ankurzing/sentiment-analysis-for-financial-news).  It's a collection of 4,837 unique news headlines from various financial news sources. "
   ]
  },
  {
   "cell_type": "markdown",
   "metadata": {},
   "source": [
    "## Importing Libraries:"
   ]
  },
  {
   "cell_type": "code",
   "execution_count": 1,
   "metadata": {},
   "outputs": [
    {
     "name": "stderr",
     "output_type": "stream",
     "text": [
      "Using TensorFlow backend.\n",
      "/Users/Thomas/opt/anaconda3/envs/learn-env/lib/python3.6/site-packages/sklearn/externals/six.py:31: DeprecationWarning: The module is deprecated in version 0.21 and will be removed in version 0.23 since we've dropped support for Python 2.7. Please rely on the official version of six (https://pypi.org/project/six/).\n",
      "  \"(https://pypi.org/project/six/).\", DeprecationWarning)\n"
     ]
    }
   ],
   "source": [
    "import pandas as pd\n",
    "import numpy as np\n",
    "\n",
    "# Scikit-Learn:\n",
    "from sklearn.preprocessing import StandardScaler\n",
    "from sklearn.neighbors import KNeighborsClassifier\n",
    "from sklearn.model_selection import train_test_split, GridSearchCV\n",
    "from sklearn.ensemble import RandomForestClassifier\n",
    "from sklearn.tree import DecisionTreeClassifier\n",
    "from sklearn.ensemble import AdaBoostClassifier, GradientBoostingClassifier\n",
    "from sklearn.pipeline import Pipeline\n",
    "from sklearn.metrics import precision_score, recall_score, confusion_matrix, classification_report, accuracy_score, f1_score\n",
    "from sklearn import svm\n",
    "from sklearn import tree\n",
    "from sklearn.preprocessing import LabelEncoder\n",
    "\n",
    "# Keras:\n",
    "import keras\n",
    "from keras.models import Sequential\n",
    "from keras.layers import Dense\n",
    "from sklearn.preprocessing import StandardScaler, LabelBinarizer\n",
    "\n",
    "# Sampling:\n",
    "from imblearn.over_sampling import SMOTE, ADASYN\n",
    "\n",
    "# XGBoost:\n",
    "import xgboost as xgb\n",
    "\n",
    "# Plots and Graphs:\n",
    "import seaborn as sns\n",
    "sns.set_style('darkgrid')\n",
    "import matplotlib.pyplot as plt\n",
    "import plotly.express as px\n",
    "import scikitplot as skplt \n",
    "%matplotlib inline\n",
    "\n",
    "# Other:\n",
    "import warnings\n",
    "warnings.filterwarnings('ignore')\n",
    "# So we can see the entire column:\n",
    "pd.set_option('display.max_colwidth', -1)"
   ]
  },
  {
   "cell_type": "code",
   "execution_count": 2,
   "metadata": {},
   "outputs": [],
   "source": [
    "# Keras NLP\n",
    "from keras.preprocessing.text import Tokenizer\n",
    "from keras.preprocessing.sequence import pad_sequences\n"
   ]
  },
  {
   "cell_type": "code",
   "execution_count": 3,
   "metadata": {},
   "outputs": [],
   "source": [
    "# Stopwords\n",
    "import nltk\n",
    "from nltk.corpus import stopwords\n",
    "import string\n",
    "from nltk import word_tokenize, FreqDist"
   ]
  },
  {
   "cell_type": "code",
   "execution_count": 4,
   "metadata": {},
   "outputs": [],
   "source": [
    "from collections import Counter"
   ]
  },
  {
   "cell_type": "markdown",
   "metadata": {},
   "source": [
    "# Importing Data:"
   ]
  },
  {
   "cell_type": "code",
   "execution_count": 5,
   "metadata": {},
   "outputs": [
    {
     "data": {
      "text/html": [
       "<div>\n",
       "<style scoped>\n",
       "    .dataframe tbody tr th:only-of-type {\n",
       "        vertical-align: middle;\n",
       "    }\n",
       "\n",
       "    .dataframe tbody tr th {\n",
       "        vertical-align: top;\n",
       "    }\n",
       "\n",
       "    .dataframe thead th {\n",
       "        text-align: right;\n",
       "    }\n",
       "</style>\n",
       "<table border=\"1\" class=\"dataframe\">\n",
       "  <thead>\n",
       "    <tr style=\"text-align: right;\">\n",
       "      <th></th>\n",
       "      <th>Sentiment</th>\n",
       "      <th>Headline</th>\n",
       "    </tr>\n",
       "  </thead>\n",
       "  <tbody>\n",
       "    <tr>\n",
       "      <td>0</td>\n",
       "      <td>neutral</td>\n",
       "      <td>According to Gran , the company has no plans to move all production to Russia , although that is where the company is growing .</td>\n",
       "    </tr>\n",
       "    <tr>\n",
       "      <td>1</td>\n",
       "      <td>neutral</td>\n",
       "      <td>Technopolis plans to develop in stages an area of no less than 100,000 square meters in order to host companies working in computer technologies and telecommunications , the statement said .</td>\n",
       "    </tr>\n",
       "    <tr>\n",
       "      <td>2</td>\n",
       "      <td>negative</td>\n",
       "      <td>The international electronic industry company Elcoteq has laid off tens of employees from its Tallinn facility ; contrary to earlier layoffs the company contracted the ranks of its office workers , the daily Postimees reported .</td>\n",
       "    </tr>\n",
       "    <tr>\n",
       "      <td>3</td>\n",
       "      <td>positive</td>\n",
       "      <td>With the new production plant the company would increase its capacity to meet the expected increase in demand and would improve the use of raw materials and therefore increase the production profitability .</td>\n",
       "    </tr>\n",
       "    <tr>\n",
       "      <td>4</td>\n",
       "      <td>positive</td>\n",
       "      <td>According to the company 's updated strategy for the years 2009-2012 , Basware targets a long-term net sales growth in the range of 20 % -40 % with an operating profit margin of 10 % -20 % of net sales .</td>\n",
       "    </tr>\n",
       "  </tbody>\n",
       "</table>\n",
       "</div>"
      ],
      "text/plain": [
       "  Sentiment  \\\n",
       "0  neutral    \n",
       "1  neutral    \n",
       "2  negative   \n",
       "3  positive   \n",
       "4  positive   \n",
       "\n",
       "                                                                                                                                                                                                                               Headline  \n",
       "0  According to Gran , the company has no plans to move all production to Russia , although that is where the company is growing .                                                                                                       \n",
       "1  Technopolis plans to develop in stages an area of no less than 100,000 square meters in order to host companies working in computer technologies and telecommunications , the statement said .                                        \n",
       "2  The international electronic industry company Elcoteq has laid off tens of employees from its Tallinn facility ; contrary to earlier layoffs the company contracted the ranks of its office workers , the daily Postimees reported .  \n",
       "3  With the new production plant the company would increase its capacity to meet the expected increase in demand and would improve the use of raw materials and therefore increase the production profitability .                        \n",
       "4  According to the company 's updated strategy for the years 2009-2012 , Basware targets a long-term net sales growth in the range of 20 % -40 % with an operating profit margin of 10 % -20 % of net sales .                           "
      ]
     },
     "metadata": {},
     "output_type": "display_data"
    },
    {
     "name": "stdout",
     "output_type": "stream",
     "text": [
      "Shape: (4846, 2) \n",
      "\n",
      "\n",
      "<class 'pandas.core.frame.DataFrame'>\n",
      "RangeIndex: 4846 entries, 0 to 4845\n",
      "Data columns (total 2 columns):\n",
      "Sentiment    4846 non-null object\n",
      "Headline     4846 non-null object\n",
      "dtypes: object(2)\n",
      "memory usage: 75.8+ KB\n",
      "None\n"
     ]
    }
   ],
   "source": [
    "df = pd.read_csv('all-data.csv', names = ['Sentiment', 'Headline'], \n",
    "                 encoding='latin-1')\n",
    "display(df.head())\n",
    "print(\"Shape:\", df.shape, \"\\n\\n\")\n",
    "print(df.info())"
   ]
  },
  {
   "cell_type": "code",
   "execution_count": 6,
   "metadata": {},
   "outputs": [
    {
     "data": {
      "text/plain": [
       "neutral     2879\n",
       "positive    1363\n",
       "negative    604 \n",
       "Name: Sentiment, dtype: int64"
      ]
     },
     "execution_count": 6,
     "metadata": {},
     "output_type": "execute_result"
    }
   ],
   "source": [
    "# Let's take a look at the number of instances of each sentiment:\n",
    "df.Sentiment.value_counts()\n",
    "# Not too many negatives.  This may prove to be an issue later on. . . "
   ]
  },
  {
   "cell_type": "markdown",
   "metadata": {},
   "source": [
    "# Cleaning Data:"
   ]
  },
  {
   "cell_type": "markdown",
   "metadata": {},
   "source": [
    "First, the labels need to be changed to numerical values in order to go through the neural network later on."
   ]
  },
  {
   "cell_type": "markdown",
   "metadata": {},
   "source": [
    "- 0 is Negative\n",
    "- 1 is Neutral\n",
    "- 2 is Positive"
   ]
  },
  {
   "cell_type": "code",
   "execution_count": 7,
   "metadata": {},
   "outputs": [],
   "source": [
    "# Encoding Sentiment\n",
    "##lb_make = LabelEncoder()\n",
    "##df[\"Sentiment\"] = lb_make.fit_transform(df[\"Sentiment\"])\n",
    "##df.head()"
   ]
  },
  {
   "cell_type": "code",
   "execution_count": 8,
   "metadata": {},
   "outputs": [
    {
     "data": {
      "text/html": [
       "<div>\n",
       "<style scoped>\n",
       "    .dataframe tbody tr th:only-of-type {\n",
       "        vertical-align: middle;\n",
       "    }\n",
       "\n",
       "    .dataframe tbody tr th {\n",
       "        vertical-align: top;\n",
       "    }\n",
       "\n",
       "    .dataframe thead th {\n",
       "        text-align: right;\n",
       "    }\n",
       "</style>\n",
       "<table border=\"1\" class=\"dataframe\">\n",
       "  <thead>\n",
       "    <tr style=\"text-align: right;\">\n",
       "      <th></th>\n",
       "      <th>Sentiment</th>\n",
       "      <th>Headline</th>\n",
       "    </tr>\n",
       "  </thead>\n",
       "  <tbody>\n",
       "    <tr>\n",
       "      <td>0</td>\n",
       "      <td>0</td>\n",
       "      <td>According to Gran , the company has no plans to move all production to Russia , although that is where the company is growing .</td>\n",
       "    </tr>\n",
       "    <tr>\n",
       "      <td>1</td>\n",
       "      <td>0</td>\n",
       "      <td>Technopolis plans to develop in stages an area of no less than 100,000 square meters in order to host companies working in computer technologies and telecommunications , the statement said .</td>\n",
       "    </tr>\n",
       "    <tr>\n",
       "      <td>2</td>\n",
       "      <td>0</td>\n",
       "      <td>The international electronic industry company Elcoteq has laid off tens of employees from its Tallinn facility ; contrary to earlier layoffs the company contracted the ranks of its office workers , the daily Postimees reported .</td>\n",
       "    </tr>\n",
       "    <tr>\n",
       "      <td>3</td>\n",
       "      <td>1</td>\n",
       "      <td>With the new production plant the company would increase its capacity to meet the expected increase in demand and would improve the use of raw materials and therefore increase the production profitability .</td>\n",
       "    </tr>\n",
       "    <tr>\n",
       "      <td>4</td>\n",
       "      <td>1</td>\n",
       "      <td>According to the company 's updated strategy for the years 2009-2012 , Basware targets a long-term net sales growth in the range of 20 % -40 % with an operating profit margin of 10 % -20 % of net sales .</td>\n",
       "    </tr>\n",
       "  </tbody>\n",
       "</table>\n",
       "</div>"
      ],
      "text/plain": [
       "   Sentiment  \\\n",
       "0  0           \n",
       "1  0           \n",
       "2  0           \n",
       "3  1           \n",
       "4  1           \n",
       "\n",
       "                                                                                                                                                                                                                               Headline  \n",
       "0  According to Gran , the company has no plans to move all production to Russia , although that is where the company is growing .                                                                                                       \n",
       "1  Technopolis plans to develop in stages an area of no less than 100,000 square meters in order to host companies working in computer technologies and telecommunications , the statement said .                                        \n",
       "2  The international electronic industry company Elcoteq has laid off tens of employees from its Tallinn facility ; contrary to earlier layoffs the company contracted the ranks of its office workers , the daily Postimees reported .  \n",
       "3  With the new production plant the company would increase its capacity to meet the expected increase in demand and would improve the use of raw materials and therefore increase the production profitability .                        \n",
       "4  According to the company 's updated strategy for the years 2009-2012 , Basware targets a long-term net sales growth in the range of 20 % -40 % with an operating profit margin of 10 % -20 % of net sales .                           "
      ]
     },
     "execution_count": 8,
     "metadata": {},
     "output_type": "execute_result"
    }
   ],
   "source": [
    "df['Sentiment'] = df['Sentiment'].map(lambda x: 1 if x == 'positive' else 0)\n",
    "df.head()"
   ]
  },
  {
   "cell_type": "markdown",
   "metadata": {},
   "source": [
    "## Stopwords:"
   ]
  },
  {
   "cell_type": "markdown",
   "metadata": {},
   "source": [
    "Next, we can remove all the 'stopwords' that can clog up the system later on.  The punctuation will get filtered out later."
   ]
  },
  {
   "cell_type": "code",
   "execution_count": 9,
   "metadata": {},
   "outputs": [],
   "source": [
    "from nltk.corpus import stopwords\n",
    "stop = set(stopwords.words('english'))\n",
    "stop.add(\"'s\")\n",
    "def remove_stopwords(text):\n",
    "    text = [word.lower() for word in text.split() if word.lower() not in stop]\n",
    "    return \" \".join(text)\n",
    "\n",
    "df['Headline'] = df['Headline'].map(remove_stopwords)"
   ]
  },
  {
   "cell_type": "code",
   "execution_count": 10,
   "metadata": {},
   "outputs": [
    {
     "data": {
      "text/html": [
       "<div>\n",
       "<style scoped>\n",
       "    .dataframe tbody tr th:only-of-type {\n",
       "        vertical-align: middle;\n",
       "    }\n",
       "\n",
       "    .dataframe tbody tr th {\n",
       "        vertical-align: top;\n",
       "    }\n",
       "\n",
       "    .dataframe thead th {\n",
       "        text-align: right;\n",
       "    }\n",
       "</style>\n",
       "<table border=\"1\" class=\"dataframe\">\n",
       "  <thead>\n",
       "    <tr style=\"text-align: right;\">\n",
       "      <th></th>\n",
       "      <th>Sentiment</th>\n",
       "      <th>Headline</th>\n",
       "    </tr>\n",
       "  </thead>\n",
       "  <tbody>\n",
       "    <tr>\n",
       "      <td>0</td>\n",
       "      <td>0</td>\n",
       "      <td>according gran , company plans move production russia , although company growing .</td>\n",
       "    </tr>\n",
       "    <tr>\n",
       "      <td>1</td>\n",
       "      <td>0</td>\n",
       "      <td>technopolis plans develop stages area less 100,000 square meters order host companies working computer technologies telecommunications , statement said .</td>\n",
       "    </tr>\n",
       "    <tr>\n",
       "      <td>2</td>\n",
       "      <td>0</td>\n",
       "      <td>international electronic industry company elcoteq laid tens employees tallinn facility ; contrary earlier layoffs company contracted ranks office workers , daily postimees reported .</td>\n",
       "    </tr>\n",
       "    <tr>\n",
       "      <td>3</td>\n",
       "      <td>1</td>\n",
       "      <td>new production plant company would increase capacity meet expected increase demand would improve use raw materials therefore increase production profitability .</td>\n",
       "    </tr>\n",
       "    <tr>\n",
       "      <td>4</td>\n",
       "      <td>1</td>\n",
       "      <td>according company updated strategy years 2009-2012 , basware targets long-term net sales growth range 20 % -40 % operating profit margin 10 % -20 % net sales .</td>\n",
       "    </tr>\n",
       "  </tbody>\n",
       "</table>\n",
       "</div>"
      ],
      "text/plain": [
       "   Sentiment  \\\n",
       "0  0           \n",
       "1  0           \n",
       "2  0           \n",
       "3  1           \n",
       "4  1           \n",
       "\n",
       "                                                                                                                                                                                 Headline  \n",
       "0  according gran , company plans move production russia , although company growing .                                                                                                      \n",
       "1  technopolis plans develop stages area less 100,000 square meters order host companies working computer technologies telecommunications , statement said .                               \n",
       "2  international electronic industry company elcoteq laid tens employees tallinn facility ; contrary earlier layoffs company contracted ranks office workers , daily postimees reported .  \n",
       "3  new production plant company would increase capacity meet expected increase demand would improve use raw materials therefore increase production profitability .                        \n",
       "4  according company updated strategy years 2009-2012 , basware targets long-term net sales growth range 20 % -40 % operating profit margin 10 % -20 % net sales .                         "
      ]
     },
     "execution_count": 10,
     "metadata": {},
     "output_type": "execute_result"
    }
   ],
   "source": [
    "df.head()"
   ]
  },
  {
   "cell_type": "markdown",
   "metadata": {},
   "source": [
    "## Tokenization and TT Split:"
   ]
  },
  {
   "cell_type": "code",
   "execution_count": null,
   "metadata": {},
   "outputs": [],
   "source": []
  },
  {
   "cell_type": "code",
   "execution_count": null,
   "metadata": {},
   "outputs": [],
   "source": []
  },
  {
   "cell_type": "code",
   "execution_count": null,
   "metadata": {},
   "outputs": [],
   "source": []
  },
  {
   "cell_type": "code",
   "execution_count": 11,
   "metadata": {},
   "outputs": [],
   "source": [
    "vocab_size = 11000 # approx 1/5 of the words \n",
    "embedding_dim = 16\n",
    "max_length = 30\n",
    "trunc_type='post'\n",
    "padding_type='post'\n",
    "oov_tok = \"<OOV>\"\n",
    "training_size = int(df.shape[0] * .8) # Out of 4846"
   ]
  },
  {
   "cell_type": "code",
   "execution_count": 12,
   "metadata": {},
   "outputs": [],
   "source": [
    "# Generating the lists of headlines and labels\n",
    "headlines = []\n",
    "labels = []\n",
    "\n",
    "for row in range(len(df)):\n",
    "    headlines.append(df['Headline'][row])\n",
    "    labels.append(df['Sentiment'][row])"
   ]
  },
  {
   "cell_type": "code",
   "execution_count": 13,
   "metadata": {},
   "outputs": [],
   "source": [
    "# Train Test Split:\n",
    "training_headlines = headlines[0:training_size]\n",
    "testing_headlines = headlines[training_size:]\n",
    "training_labels = labels[0:training_size]\n",
    "testing_labels = labels[training_size:]"
   ]
  },
  {
   "cell_type": "code",
   "execution_count": 14,
   "metadata": {},
   "outputs": [],
   "source": [
    "\n",
    "# Initializing the fitting the tokenizer:\n",
    "tokenizer = Tokenizer(num_words = vocab_size, oov_token = oov_tok)\n",
    "tokenizer.fit_on_texts(training_headlines)\n",
    "# Initializing the Word Index:\n",
    "word_index = tokenizer.word_index\n",
    "# Padding and Sequencing the Training Set:\n",
    "training_sequences = tokenizer.texts_to_sequences(training_headlines)\n",
    "training_padded = pad_sequences(training_sequences, maxlen = max_length,\n",
    "                               padding = padding_type, \n",
    "                               truncating = trunc_type)\n",
    "# Padding and Sequencing the Testing Set:\n",
    "testing_sequences = tokenizer.texts_to_sequences(testing_headlines)\n",
    "testing_padded = pad_sequences(testing_sequences, maxlen = max_length, \n",
    "                               padding = padding_type, \n",
    "                               truncating = trunc_type)\n"
   ]
  },
  {
   "cell_type": "code",
   "execution_count": 15,
   "metadata": {},
   "outputs": [],
   "source": [
    "# Switch to Numpy Array\n",
    "training_padded = np.array(training_padded)\n",
    "training_labels = np.array(training_labels)\n",
    "testing_padded = np.array(testing_padded)\n",
    "testing_labels = np.array(testing_labels)"
   ]
  },
  {
   "cell_type": "code",
   "execution_count": 16,
   "metadata": {},
   "outputs": [
    {
     "name": "stdout",
     "output_type": "stream",
     "text": [
      "Padded and Tokenized Headline:\n",
      " [  15   60   68    2  100   65  189 1489  106   65  529  100  552  168\n",
      "  650  413 1703   65   60  993    0    0    0    0    0    0    0    0\n",
      "    0    0]\n",
      "\n",
      "The actual headline:\n",
      " new production plant company would increase capacity meet expected increase demand would improve use raw materials therefore increase production profitability .\n",
      "\n",
      "Label:\n",
      " 1\n"
     ]
    }
   ],
   "source": [
    "# Example of what's happening under the hood:\n",
    "print ('Padded and Tokenized Headline:\\n', training_padded[3])\n",
    "print ('\\nThe actual headline:\\n', df.Headline[3])\n",
    "print ('\\nLabel:\\n', training_labels[3])"
   ]
  },
  {
   "cell_type": "markdown",
   "metadata": {},
   "source": [
    "# Neural Network:"
   ]
  },
  {
   "cell_type": "markdown",
   "metadata": {},
   "source": [
    "Now it's time to build a baseline neural network:"
   ]
  },
  {
   "cell_type": "code",
   "execution_count": 17,
   "metadata": {},
   "outputs": [],
   "source": [
    "model = keras.Sequential([\n",
    "    keras.layers.Embedding(vocab_size, embedding_dim, input_length=max_length),\n",
    "    keras.layers.GlobalAveragePooling1D(),\n",
    "    keras.layers.Dense(10, activation='relu'),\n",
    "    keras.layers.Dense(10, activation='relu'), # Optional second hidden layer\n",
    "    keras.layers.Dense(1, activation='sigmoid')]) # Binary classification\n",
    "#    keras.layers.Dense(2, activation='softmax')])\n",
    "\n",
    "model.compile(loss='binary_crossentropy',optimizer='Adam',metrics=['accuracy']) # Orig code\n",
    "#model.compile(loss='categorical_crossentropy', optimizer='adam', metrics=['accuracy']) # New code for 3 categories"
   ]
  },
  {
   "cell_type": "code",
   "execution_count": 18,
   "metadata": {},
   "outputs": [
    {
     "name": "stdout",
     "output_type": "stream",
     "text": [
      "_________________________________________________________________\n",
      "Layer (type)                 Output Shape              Param #   \n",
      "=================================================================\n",
      "embedding_1 (Embedding)      (None, 30, 16)            176000    \n",
      "_________________________________________________________________\n",
      "global_average_pooling1d_1 ( (None, 16)                0         \n",
      "_________________________________________________________________\n",
      "dense_1 (Dense)              (None, 10)                170       \n",
      "_________________________________________________________________\n",
      "dense_2 (Dense)              (None, 10)                110       \n",
      "_________________________________________________________________\n",
      "dense_3 (Dense)              (None, 1)                 11        \n",
      "=================================================================\n",
      "Total params: 176,291\n",
      "Trainable params: 176,291\n",
      "Non-trainable params: 0\n",
      "_________________________________________________________________\n"
     ]
    }
   ],
   "source": [
    "model.summary()"
   ]
  },
  {
   "cell_type": "code",
   "execution_count": 19,
   "metadata": {},
   "outputs": [
    {
     "name": "stdout",
     "output_type": "stream",
     "text": [
      "Train on 3876 samples, validate on 970 samples\n",
      "Epoch 1/30\n",
      " - 1s - loss: 0.6429 - acc: 0.6680 - val_loss: 0.4598 - val_acc: 0.9186\n",
      "Epoch 2/30\n",
      " - 0s - loss: 0.5768 - acc: 0.7054 - val_loss: 0.5346 - val_acc: 0.7155\n",
      "Epoch 3/30\n",
      " - 0s - loss: 0.4563 - acc: 0.7933 - val_loss: 0.6093 - val_acc: 0.6753\n",
      "Epoch 4/30\n",
      " - 0s - loss: 0.3146 - acc: 0.8746 - val_loss: 0.6129 - val_acc: 0.6969\n",
      "Epoch 5/30\n",
      " - 0s - loss: 0.2064 - acc: 0.9306 - val_loss: 0.6345 - val_acc: 0.7041\n",
      "Epoch 6/30\n",
      " - 0s - loss: 0.1379 - acc: 0.9574 - val_loss: 0.6666 - val_acc: 0.7103\n",
      "Epoch 7/30\n",
      " - 0s - loss: 0.0983 - acc: 0.9711 - val_loss: 0.7350 - val_acc: 0.6990\n",
      "Epoch 8/30\n",
      " - 0s - loss: 0.0674 - acc: 0.9804 - val_loss: 0.7275 - val_acc: 0.7258\n",
      "Epoch 9/30\n",
      " - 0s - loss: 0.0495 - acc: 0.9879 - val_loss: 0.8146 - val_acc: 0.7144\n",
      "Epoch 10/30\n",
      " - 0s - loss: 0.0370 - acc: 0.9925 - val_loss: 0.9662 - val_acc: 0.6928\n",
      "Epoch 11/30\n",
      " - 0s - loss: 0.0285 - acc: 0.9933 - val_loss: 0.8792 - val_acc: 0.7186\n",
      "Epoch 12/30\n",
      " - 0s - loss: 0.0230 - acc: 0.9938 - val_loss: 1.0198 - val_acc: 0.7052\n",
      "Epoch 13/30\n",
      " - 0s - loss: 0.0183 - acc: 0.9964 - val_loss: 1.0184 - val_acc: 0.7124\n",
      "Epoch 14/30\n",
      " - 0s - loss: 0.0157 - acc: 0.9969 - val_loss: 1.0894 - val_acc: 0.7072\n",
      "Epoch 15/30\n",
      " - 0s - loss: 0.0137 - acc: 0.9966 - val_loss: 1.2181 - val_acc: 0.6866\n",
      "Epoch 16/30\n",
      " - 0s - loss: 0.0121 - acc: 0.9969 - val_loss: 1.2942 - val_acc: 0.6835\n",
      "Epoch 17/30\n",
      " - 0s - loss: 0.0103 - acc: 0.9972 - val_loss: 1.2065 - val_acc: 0.7041\n",
      "Epoch 18/30\n",
      " - 0s - loss: 0.0103 - acc: 0.9969 - val_loss: 1.1746 - val_acc: 0.7216\n",
      "Epoch 19/30\n",
      " - 0s - loss: 0.0082 - acc: 0.9979 - val_loss: 1.1979 - val_acc: 0.7247\n",
      "Epoch 20/30\n",
      " - 0s - loss: 0.0085 - acc: 0.9974 - val_loss: 1.3873 - val_acc: 0.6928\n",
      "Epoch 21/30\n",
      " - 0s - loss: 0.0093 - acc: 0.9972 - val_loss: 1.1523 - val_acc: 0.7485\n",
      "Epoch 22/30\n",
      " - 0s - loss: 0.0063 - acc: 0.9982 - val_loss: 1.3379 - val_acc: 0.7206\n",
      "Epoch 23/30\n",
      " - 0s - loss: 0.0068 - acc: 0.9977 - val_loss: 1.4077 - val_acc: 0.7000\n",
      "Epoch 24/30\n",
      " - 0s - loss: 0.0075 - acc: 0.9977 - val_loss: 1.6856 - val_acc: 0.6546\n",
      "Epoch 25/30\n",
      " - 0s - loss: 0.0070 - acc: 0.9979 - val_loss: 1.4119 - val_acc: 0.7196\n",
      "Epoch 26/30\n",
      " - 0s - loss: 0.0054 - acc: 0.9979 - val_loss: 1.4410 - val_acc: 0.7175\n",
      "Epoch 27/30\n",
      " - 0s - loss: 0.0058 - acc: 0.9979 - val_loss: 1.5297 - val_acc: 0.7041\n",
      "Epoch 28/30\n",
      " - 0s - loss: 0.0052 - acc: 0.9979 - val_loss: 1.5128 - val_acc: 0.7175\n",
      "Epoch 29/30\n",
      " - 0s - loss: 0.0051 - acc: 0.9982 - val_loss: 1.4983 - val_acc: 0.7113\n",
      "Epoch 30/30\n",
      " - 0s - loss: 0.0061 - acc: 0.9974 - val_loss: 1.5943 - val_acc: 0.6990\n"
     ]
    }
   ],
   "source": [
    "num_epochs = 30\n",
    "history = model.fit(training_padded, training_labels, \n",
    "                    epochs=num_epochs, \n",
    "                    validation_data=(testing_padded, testing_labels), \n",
    "                    verbose=2)"
   ]
  },
  {
   "cell_type": "markdown",
   "metadata": {},
   "source": [
    "## Model Notes:"
   ]
  },
  {
   "cell_type": "markdown",
   "metadata": {},
   "source": [
    "- Model 1: 30 epochs, binary classification, 75% val accuracy, terrible optimization.  Super overfit."
   ]
  },
  {
   "cell_type": "markdown",
   "metadata": {},
   "source": [
    "# D E E P Neural Network:"
   ]
  },
  {
   "cell_type": "markdown",
   "metadata": {},
   "source": [
    "# Unsupervised Learning / Clustering:"
   ]
  },
  {
   "cell_type": "markdown",
   "metadata": {},
   "source": [
    "# Model Evaluation:"
   ]
  },
  {
   "cell_type": "code",
   "execution_count": 20,
   "metadata": {},
   "outputs": [
    {
     "data": {
      "image/png": "[encoded data removed]",
      "text/plain": [
       "<Figure size 432x288 with 1 Axes>"
      ]
     },
     "metadata": {
      "needs_background": "light"
     },
     "output_type": "display_data"
    },
    {
     "data": {
      "image/png": "[encoded data removed]",
      "text/plain": [
       "<Figure size 432x288 with 1 Axes>"
      ]
     },
     "metadata": {
      "needs_background": "light"
     },
     "output_type": "display_data"
    }
   ],
   "source": [
    "import matplotlib.pyplot as plt\n",
    "\n",
    "\n",
    "def plot_graphs(history, string):\n",
    "  plt.plot(history.history[string])\n",
    "  plt.plot(history.history['val_'+string])\n",
    "  plt.xlabel(\"Epochs\")\n",
    "  plt.ylabel(string)\n",
    "  plt.legend([string, 'val_'+string])\n",
    "  plt.show()\n",
    "  \n",
    "plot_graphs(history, \"acc\")\n",
    "plot_graphs(history, \"loss\")"
   ]
  },
  {
   "cell_type": "code",
   "execution_count": 21,
   "metadata": {},
   "outputs": [
    {
     "name": "stdout",
     "output_type": "stream",
     "text": [
      "according gran company plans move production russia although company growing ? ? ? ? ? ? ? ? ? ? ? ? ? ? ? ? ? ? ? ?\n",
      "international electronic industry company elcoteq laid tens employees tallinn facility ; contrary earlier layoffs company contracted ranks office workers , daily postimees reported .\n",
      "0\n"
     ]
    }
   ],
   "source": [
    "reverse_word_index = dict([(value, key) for (key, value) in word_index.items()])\n",
    "\n",
    "def decode_sentence(text):\n",
    "    return ' '.join([reverse_word_index.get(i, '?') for i in text])\n",
    "\n",
    "print(decode_sentence(training_padded[0]))\n",
    "print(training_headlines[2])\n",
    "print(labels[2])"
   ]
  },
  {
   "cell_type": "code",
   "execution_count": 22,
   "metadata": {},
   "outputs": [
    {
     "name": "stdout",
     "output_type": "stream",
     "text": [
      "(11000, 16)\n"
     ]
    }
   ],
   "source": [
    "e = model.layers[0]\n",
    "weights = e.get_weights()[0]\n",
    "print(weights.shape) # shape: (vocab_size, embedding_dim)"
   ]
  },
  {
   "cell_type": "code",
   "execution_count": 23,
   "metadata": {},
   "outputs": [
    {
     "data": {
      "text/plain": [
       "'\\nimport io\\n\\nout_v = io.open(\\'vecs.tsv\\', \\'w\\', encoding=\\'utf-8\\')\\nout_m = io.open(\\'meta.tsv\\', \\'w\\', encoding=\\'utf-8\\')\\nfor word_num in range(1, vocab_size):\\n  word = reverse_word_index[word_num]\\n  embeddings = weights[word_num]\\n  out_m.write(word + \"\\n\")\\n  out_v.write(\\'\\t\\'.join([str(x) for x in embeddings]) + \"\\n\")\\nout_v.close()\\nout_m.close()\\n'"
      ]
     },
     "execution_count": 23,
     "metadata": {},
     "output_type": "execute_result"
    }
   ],
   "source": [
    "'''\n",
    "import io\n",
    "\n",
    "out_v = io.open('vecs.tsv', 'w', encoding='utf-8')\n",
    "out_m = io.open('meta.tsv', 'w', encoding='utf-8')\n",
    "for word_num in range(1, vocab_size):\n",
    "  word = reverse_word_index[word_num]\n",
    "  embeddings = weights[word_num]\n",
    "  out_m.write(word + \"\\n\")\n",
    "  out_v.write('\\t'.join([str(x) for x in embeddings]) + \"\\n\")\n",
    "out_v.close()\n",
    "out_m.close()\n",
    "'''"
   ]
  },
  {
   "cell_type": "code",
   "execution_count": 24,
   "metadata": {},
   "outputs": [
    {
     "name": "stdout",
     "output_type": "stream",
     "text": [
      "[[9.8519325e-01]\n",
      " [7.6886121e-05]]\n"
     ]
    }
   ],
   "source": [
    "# Sort of working!\n",
    "sentence = [\"stocks rise rapidly for Tesla\", \"Apple factory burns to the ground\"]\n",
    "sequences = tokenizer.texts_to_sequences(sentence)\n",
    "padded = pad_sequences(sequences, maxlen=max_length, \n",
    "                       padding=padding_type, \n",
    "                       truncating=trunc_type)\n",
    "print(model.predict(padded))"
   ]
  },
  {
   "cell_type": "markdown",
   "metadata": {},
   "source": [
    "# Further Work:"
   ]
  },
  {
   "cell_type": "markdown",
   "metadata": {},
   "source": [
    "# Conclusion:"
   ]
  },
  {
   "cell_type": "code",
   "execution_count": 25,
   "metadata": {},
   "outputs": [
    {
     "data": {
      "text/plain": [
       "\"\\nfrom keras.models import Sequential\\nfrom keras.layers import Embedding, LSTM, Dense, Dropout\\nfrom keras.initializers import Constant\\nfrom keras.optimizers import Adam\\n\\n\\nmodel = Sequential()\\nmodel.add(Embedding(num_words, 32, input_length = max_length))\\nmodel.add(LSTM(64, dropout = .1))\\nmodel.add(Dense(1, activation = 'sigmoid'))\\n\\n\\nmodel.compile(loss = 'binary_crossentropy', \\n              optimizer = 'Adam', \\n              metrics = ['accuracy'])\\nmodel.summary()\\n\\n\\nhistory = model.fit(train_padded, train_labels,\\n                    epochs = 20,\\n                    validation_data = (test_padded, test_labels))\\n\\n\""
      ]
     },
     "execution_count": 25,
     "metadata": {},
     "output_type": "execute_result"
    }
   ],
   "source": [
    "# Optional Second Model:\n",
    "\n",
    "'''\n",
    "from keras.models import Sequential\n",
    "from keras.layers import Embedding, LSTM, Dense, Dropout\n",
    "from keras.initializers import Constant\n",
    "from keras.optimizers import Adam\n",
    "\n",
    "\n",
    "model = Sequential()\n",
    "model.add(Embedding(num_words, 32, input_length = max_length))\n",
    "model.add(LSTM(64, dropout = .1))\n",
    "model.add(Dense(1, activation = 'sigmoid'))\n",
    "\n",
    "\n",
    "model.compile(loss = 'binary_crossentropy', \n",
    "              optimizer = 'Adam', \n",
    "              metrics = ['accuracy'])\n",
    "model.summary()\n",
    "\n",
    "\n",
    "history = model.fit(train_padded, train_labels,\n",
    "                    epochs = 20,\n",
    "                    validation_data = (test_padded, test_labels))\n",
    "\n",
    "'''"
   ]
  }
 ],
 "metadata": {
  "kernelspec": {
   "display_name": "Python 3",
   "language": "python",
   "name": "python3"
  },
  "language_info": {
   "codemirror_mode": {
    "name": "ipython",
    "version": 3
   },
   "file_extension": ".py",
   "mimetype": "text/x-python",
   "name": "python",
   "nbconvert_exporter": "python",
   "pygments_lexer": "ipython3",
   "version": "3.6.9"
  },
  "toc": {
   "base_numbering": 1,
   "nav_menu": {},
   "number_sections": true,
   "sideBar": true,
   "skip_h1_title": false,
   "title_cell": "Table of Contents",
   "title_sidebar": "Contents",
   "toc_cell": false,
   "toc_position": {},
   "toc_section_display": true,
   "toc_window_display": false
  }
 },
 "nbformat": 4,
 "nbformat_minor": 2
}
